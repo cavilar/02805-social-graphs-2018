{
 "cells": [
  {
   "cell_type": "code",
   "execution_count": 4,
   "metadata": {},
   "outputs": [],
   "source": [
    "import networkx as nx\n",
    "import matplotlib.pyplot as plt\n",
    "import numpy as np\n",
    "from networkx.algorithms import bipartite\n",
    "import pandas as pd\n",
    "import re"
   ]
  },
  {
   "cell_type": "code",
   "execution_count": 29,
   "metadata": {},
   "outputs": [],
   "source": [
    "def degree(g, nodes=None, as_list=True):\n",
    "    deg = dict(g.degree())\n",
    "    if nodes: deg = dict(g.degree(nodes))\n",
    "    \n",
    "    if as_list: return list(deg.values())\n",
    "    return deg\n",
    "\n",
    "def degree_plot(g, nodes=None, title=''):\n",
    "    deg = degree(g, nodes=nodes)\n",
    "    bins = 100\n",
    "    if len(nodes) < 100:\n",
    "        bins = len(nodes)\n",
    "    hist = np.histogram(deg, bins=bins)\n",
    "    freqs, edges = hist[0], hist[1]\n",
    "    n = freqs.size\n",
    "    means = [(edges[i] + edges[i+1]) / 2 for i in range(n)]\n",
    "    \n",
    "    # SCATTER PLOT\n",
    "    plt.plot(means, freqs, \".\")\n",
    "    plt.xlabel(\"k\")\n",
    "    plt.ylabel(\"frequency\")\n",
    "    plt.title(\"Degree distribution for %s\" % title)\n",
    "    plt.show()\n",
    "    \n",
    "    # LOG LOG PLOT\n",
    "    plt.loglog(means, freqs, \".\")\n",
    "    plt.xlabel(\"log(k)\")\n",
    "    plt.ylabel(\"log(frequency)\")\n",
    "    plt.title(\"Log-log degree distribution for %s\" % title)\n",
    "    plt.show()"
   ]
  },
  {
   "cell_type": "code",
   "execution_count": 6,
   "metadata": {},
   "outputs": [],
   "source": [
    "USER = 'user'\n",
    "ELITE_USER = 'elite_user'\n",
    "BIZ = 'biz'"
   ]
  },
  {
   "cell_type": "code",
   "execution_count": 7,
   "metadata": {},
   "outputs": [],
   "source": [
    "biz = pd.read_csv('toronto/toronto_biz.csv')\n",
    "user = pd.read_csv('toronto/toronto_users.csv')\n",
    "reviews = pd.read_csv('toronto/toronto_reviews.csv')\n",
    "elite_user = user[~user.elite.str.contains('None')]"
   ]
  },
  {
   "cell_type": "code",
   "execution_count": 8,
   "metadata": {},
   "outputs": [
    {
     "name": "stdout",
     "output_type": "stream",
     "text": [
      "#Reviews: 379875\n",
      "#Users: 84624\n",
      "#Elite users: 7499\n",
      "#Businesses: 9678\n"
     ]
    }
   ],
   "source": [
    "print('#Reviews:', len(reviews))\n",
    "print('#Users:', len(set(reviews.user_id)))\n",
    "print('#Elite users:', len(elite_user))\n",
    "print('#Businesses:', len(set(reviews.business_id)))"
   ]
  },
  {
   "cell_type": "code",
   "execution_count": 9,
   "metadata": {},
   "outputs": [
    {
     "data": {
      "text/html": [
       "<div>\n",
       "<style scoped>\n",
       "    .dataframe tbody tr th:only-of-type {\n",
       "        vertical-align: middle;\n",
       "    }\n",
       "\n",
       "    .dataframe tbody tr th {\n",
       "        vertical-align: top;\n",
       "    }\n",
       "\n",
       "    .dataframe thead th {\n",
       "        text-align: right;\n",
       "    }\n",
       "</style>\n",
       "<table border=\"1\" class=\"dataframe\">\n",
       "  <thead>\n",
       "    <tr style=\"text-align: right;\">\n",
       "      <th></th>\n",
       "      <th>average_stars</th>\n",
       "      <th>elite</th>\n",
       "      <th>friends</th>\n",
       "      <th>name</th>\n",
       "      <th>review_count</th>\n",
       "      <th>useful</th>\n",
       "      <th>user_id</th>\n",
       "      <th>yelping_since</th>\n",
       "    </tr>\n",
       "  </thead>\n",
       "  <tbody>\n",
       "    <tr>\n",
       "      <th>0</th>\n",
       "      <td>2.00</td>\n",
       "      <td>None</td>\n",
       "      <td>None</td>\n",
       "      <td>Susan</td>\n",
       "      <td>1</td>\n",
       "      <td>0</td>\n",
       "      <td>lzlZwIpuSWXEnNS91wxjHw</td>\n",
       "      <td>2015-09-28</td>\n",
       "    </tr>\n",
       "    <tr>\n",
       "      <th>1</th>\n",
       "      <td>1.00</td>\n",
       "      <td>None</td>\n",
       "      <td>None</td>\n",
       "      <td>Ying</td>\n",
       "      <td>1</td>\n",
       "      <td>0</td>\n",
       "      <td>bwPVGW1Mx0qmS_qNQ7xmYg</td>\n",
       "      <td>2012-02-09</td>\n",
       "    </tr>\n",
       "    <tr>\n",
       "      <th>2</th>\n",
       "      <td>3.50</td>\n",
       "      <td>None</td>\n",
       "      <td>None</td>\n",
       "      <td>Vai</td>\n",
       "      <td>4</td>\n",
       "      <td>0</td>\n",
       "      <td>JcKUiHAQ9cWGSO_qFbzlKw</td>\n",
       "      <td>2009-12-28</td>\n",
       "    </tr>\n",
       "    <tr>\n",
       "      <th>3</th>\n",
       "      <td>1.75</td>\n",
       "      <td>None</td>\n",
       "      <td>None</td>\n",
       "      <td>Walter</td>\n",
       "      <td>4</td>\n",
       "      <td>1</td>\n",
       "      <td>mNzy0-YVTJTP2jqHR7zWwQ</td>\n",
       "      <td>2014-05-31</td>\n",
       "    </tr>\n",
       "    <tr>\n",
       "      <th>4</th>\n",
       "      <td>2.00</td>\n",
       "      <td>None</td>\n",
       "      <td>None</td>\n",
       "      <td>K</td>\n",
       "      <td>3</td>\n",
       "      <td>0</td>\n",
       "      <td>AAxJbjcq94NaqUJGFE362g</td>\n",
       "      <td>2013-07-08</td>\n",
       "    </tr>\n",
       "  </tbody>\n",
       "</table>\n",
       "</div>"
      ],
      "text/plain": [
       "   average_stars elite friends    name  review_count  useful  \\\n",
       "0           2.00  None    None   Susan             1       0   \n",
       "1           1.00  None    None    Ying             1       0   \n",
       "2           3.50  None    None     Vai             4       0   \n",
       "3           1.75  None    None  Walter             4       1   \n",
       "4           2.00  None    None       K             3       0   \n",
       "\n",
       "                  user_id yelping_since  \n",
       "0  lzlZwIpuSWXEnNS91wxjHw    2015-09-28  \n",
       "1  bwPVGW1Mx0qmS_qNQ7xmYg    2012-02-09  \n",
       "2  JcKUiHAQ9cWGSO_qFbzlKw    2009-12-28  \n",
       "3  mNzy0-YVTJTP2jqHR7zWwQ    2014-05-31  \n",
       "4  AAxJbjcq94NaqUJGFE362g    2013-07-08  "
      ]
     },
     "execution_count": 9,
     "metadata": {},
     "output_type": "execute_result"
    }
   ],
   "source": [
    "user.head()"
   ]
  },
  {
   "cell_type": "markdown",
   "metadata": {},
   "source": [
    "## Social Network (Friends)\n",
    "### Make friend List"
   ]
  },
  {
   "cell_type": "code",
   "execution_count": 10,
   "metadata": {},
   "outputs": [],
   "source": [
    "elite_ids = set(elite_user.user_id)"
   ]
  },
  {
   "cell_type": "code",
   "execution_count": 11,
   "metadata": {},
   "outputs": [],
   "source": [
    "users_with_friends = user[user.friends != 'None']"
   ]
  },
  {
   "cell_type": "code",
   "execution_count": 12,
   "metadata": {},
   "outputs": [],
   "source": [
    "friend_list = dict()\n",
    "for row in users_with_friends.itertuples():\n",
    "    friend_list[row.user_id] = re.findall(r'\\w+', row.friends)"
   ]
  },
  {
   "cell_type": "code",
   "execution_count": 13,
   "metadata": {},
   "outputs": [
    {
     "data": {
      "text/plain": [
       "'_a7BES74d_thQfpNBuk8Gw'"
      ]
     },
     "execution_count": 13,
     "metadata": {},
     "output_type": "execute_result"
    }
   ],
   "source": [
    "users_with_friends.iloc[0].user_id"
   ]
  },
  {
   "cell_type": "markdown",
   "metadata": {},
   "source": [
    "### Creating the social network"
   ]
  },
  {
   "cell_type": "code",
   "execution_count": 14,
   "metadata": {},
   "outputs": [],
   "source": [
    "# A node class for storing data.\n",
    "class Node:\n",
    "    def __init__(self, Data, Type):\n",
    "        self.Data = Data\n",
    "        self.Type = Type\n",
    "    \n",
    "    def to_string(self):\n",
    "        return \"Node (%s), Data: \" % (self.Type, self.Data)\n",
    "    \n",
    "    def __hash__(self):\n",
    "        return hash(self.Data)\n",
    "    def __eq__(self, other):\n",
    "        return (\n",
    "                self.__class__ == other.__class__ and \n",
    "                self.Data == other.Data\n",
    "               )"
   ]
  },
  {
   "cell_type": "code",
   "execution_count": 16,
   "metadata": {},
   "outputs": [],
   "source": [
    "social_network = nx.Graph()\n",
    "for uid in users_with_friends.user_id:\n",
    "    a = Node(uid, ELITE_USER if uid in elite_ids else USER)\n",
    "    for fid in friend_list[uid]:\n",
    "        b = Node(fid, ELITE_USER if fid in elite_ids else USER)\n",
    "        social_network.add_edge(a, b)"
   ]
  },
  {
   "cell_type": "markdown",
   "metadata": {},
   "source": [
    "#### Degree distributions"
   ]
  },
  {
   "cell_type": "code",
   "execution_count": 17,
   "metadata": {},
   "outputs": [],
   "source": [
    "social_user_nodes = [n for n in list(social_network.nodes()) if n.Type == USER]\n",
    "social_elite_user_nodes = [n for n in list(social_network.nodes()) if n.Type == ELITE_USER]"
   ]
  },
  {
   "cell_type": "code",
   "execution_count": 31,
   "metadata": {},
   "outputs": [
    {
     "data": {
      "image/png": "[encoded data removed]",
      "text/plain": [
       "<Figure size 432x288 with 1 Axes>"
      ]
     },
     "metadata": {
      "needs_background": "light"
     },
     "output_type": "display_data"
    },
    {
     "data": {
      "image/png": "[encoded data removed]",
      "text/plain": [
       "<Figure size 432x288 with 1 Axes>"
      ]
     },
     "metadata": {
      "needs_background": "light"
     },
     "output_type": "display_data"
    }
   ],
   "source": [
    "degree_plot(social_network, social_network.nodes(), \"user nodes\")"
   ]
  },
  {
   "cell_type": "code",
   "execution_count": 18,
   "metadata": {},
   "outputs": [
    {
     "data": {
      "image/png": "[encoded data removed]",
      "text/plain": [
       "<Figure size 432x288 with 1 Axes>"
      ]
     },
     "metadata": {
      "needs_background": "light"
     },
     "output_type": "display_data"
    },
    {
     "data": {
      "image/png": "[encoded data removed]",
      "text/plain": [
       "<Figure size 432x288 with 1 Axes>"
      ]
     },
     "metadata": {
      "needs_background": "light"
     },
     "output_type": "display_data"
    }
   ],
   "source": [
    "degree_plot(social_network, social_user_nodes, \"user nodes\")"
   ]
  },
  {
   "cell_type": "code",
   "execution_count": 19,
   "metadata": {},
   "outputs": [
    {
     "data": {
      "image/png": "[encoded data removed]",
      "text/plain": [
       "<Figure size 432x288 with 1 Axes>"
      ]
     },
     "metadata": {
      "needs_background": "light"
     },
     "output_type": "display_data"
    },
    {
     "data": {
      "image/png": "[encoded data removed]",
      "text/plain": [
       "<Figure size 432x288 with 1 Axes>"
      ]
     },
     "metadata": {
      "needs_background": "light"
     },
     "output_type": "display_data"
    }
   ],
   "source": [
    "degree_plot(social_network, social_elite_user_nodes, \"user nodes\")"
   ]
  },
  {
   "cell_type": "code",
   "execution_count": 33,
   "metadata": {},
   "outputs": [
    {
     "name": "stdout",
     "output_type": "stream",
     "text": [
      "Nodes: 1852011\n",
      "Edges: 4092577\n"
     ]
    }
   ],
   "source": [
    "print('Nodes:', len(social_network.nodes()))\n",
    "print('Edges:', len(social_network.edges()))"
   ]
  },
  {
   "cell_type": "code",
   "execution_count": 34,
   "metadata": {},
   "outputs": [
    {
     "name": "stdout",
     "output_type": "stream",
     "text": [
      "Nodes in largest subcomponent: 1842743\n",
      "Edges in largest subcomponent: 4086081\n"
     ]
    }
   ],
   "source": [
    "L = max(nx.connected_component_subgraphs(social_network), key=len)\n",
    "print(\"Nodes in largest subcomponent:\", len(L.nodes()))\n",
    "print(\"Edges in largest subcomponent:\", len(L.edges()))"
   ]
  },
  {
   "cell_type": "code",
   "execution_count": 35,
   "metadata": {},
   "outputs": [
    {
     "data": {
      "text/plain": [
       "0.041618381061566956"
      ]
     },
     "execution_count": 35,
     "metadata": {},
     "output_type": "execute_result"
    }
   ],
   "source": [
    "nx.average_clustering(social_network)"
   ]
  },
  {
   "cell_type": "markdown",
   "metadata": {},
   "source": [
    "### Degree Dist"
   ]
  },
  {
   "cell_type": "code",
   "execution_count": null,
   "metadata": {},
   "outputs": [],
   "source": [
    "biz_nodes = [n for n in list(G.nodes()) if n.Type == BIZ]\n",
    "user_nodes = [n for n in list(G.nodes()) if n.Type == USER]\n",
    "elite_user_nodes = [n for n in list(G.nodes()) if n.Type == ELITE_USER]"
   ]
  },
  {
   "cell_type": "code",
   "execution_count": null,
   "metadata": {},
   "outputs": [],
   "source": [
    "degree_plot(G, user_nodes, \"user nodes\")"
   ]
  },
  {
   "cell_type": "code",
   "execution_count": null,
   "metadata": {},
   "outputs": [],
   "source": [
    "degree_plot(G, elite_user_nodes, \"elite user nodes\")"
   ]
  },
  {
   "cell_type": "markdown",
   "metadata": {},
   "source": [
    "### Largest subcomponent"
   ]
  },
  {
   "cell_type": "raw",
   "metadata": {},
   "source": [
    "import pickle"
   ]
  },
  {
   "cell_type": "raw",
   "metadata": {},
   "source": [
    "filehandler = open(\"graph2017.obj\",\"wb\")\n",
    "pickle.dump(G, filehandler)\n",
    "filehandler.close()"
   ]
  },
  {
   "cell_type": "raw",
   "metadata": {},
   "source": [
    "subgraphs = list(nx.connected_component_subgraphs(G))"
   ]
  },
  {
   "cell_type": "code",
   "execution_count": null,
   "metadata": {},
   "outputs": [],
   "source": [
    "L = max(nx.connected_component_subgraphs(G), key=len)\n",
    "print(\"Nodes in largest subcomponent:\", len(L.nodes()))\n",
    "print(\"Edges in largest subcomponent:\", len(L.edges()))"
   ]
  },
  {
   "cell_type": "markdown",
   "metadata": {},
   "source": [
    "The graph is connected, and therefore the largest subcomponent is the graph itself."
   ]
  },
  {
   "cell_type": "markdown",
   "metadata": {},
   "source": [
    "### Eigenvector Centrality"
   ]
  },
  {
   "cell_type": "code",
   "execution_count": null,
   "metadata": {},
   "outputs": [],
   "source": [
    "ev_centrality = nx.eigenvector_centrality_numpy(G)\n",
    "sorted_ev_centrality = sorted(ev_centrality.items(), key=lambda x: x[1], reverse=True)\n",
    "ev_elite_user = [(x,y) for (x,y) in sorted_ev_centrality if x.Type == ELITE_USER]"
   ]
  },
  {
   "cell_type": "markdown",
   "metadata": {},
   "source": [
    "### Degree Centrality"
   ]
  },
  {
   "cell_type": "markdown",
   "metadata": {},
   "source": [
    "### Removing elite users"
   ]
  },
  {
   "cell_type": "code",
   "execution_count": null,
   "metadata": {},
   "outputs": [],
   "source": [
    "n = 20\n",
    "number_elite_nodes = np.zeros(n)\n",
    "number_elite_edges = np.zeros(n)"
   ]
  },
  {
   "cell_type": "code",
   "execution_count": null,
   "metadata": {},
   "outputs": [],
   "source": [
    "G1 = G.copy()"
   ]
  },
  {
   "cell_type": "code",
   "execution_count": null,
   "metadata": {},
   "outputs": [],
   "source": [
    "deg_centrality = nx.degree_centrality(G1)\n",
    "sorted_deg_centrality = sorted(deg_centrality.items(), key=lambda x: x[1], reverse=True)\n",
    "elite_user_by_degree = [x for (x,y) in sorted_deg_centrality if x.Type == ELITE_USER]"
   ]
  },
  {
   "cell_type": "code",
   "execution_count": null,
   "metadata": {},
   "outputs": [],
   "source": [
    "one_percent = round(len(elite_user_by_degree) / 100)"
   ]
  },
  {
   "cell_type": "code",
   "execution_count": null,
   "metadata": {},
   "outputs": [],
   "source": [
    "for i in range(n):\n",
    "    print(\"Start of round %i...\" % (i+1))\n",
    "    start, end = i * one_percent, (i+1) * one_percent\n",
    "    nodes_to_remove = elite_user_by_degree[start:end]\n",
    "    G1.remove_nodes_from(nodes_to_remove)\n",
    "    subgraph = max(nx.connected_component_subgraphs(G1), key=len)\n",
    "    number_elite_nodes[i] = len(subgraph.nodes())\n",
    "    number_elite_edges[i] = len(subgraph.edges())"
   ]
  },
  {
   "cell_type": "code",
   "execution_count": null,
   "metadata": {},
   "outputs": [],
   "source": [
    "nx.shortest_path_length(G)"
   ]
  },
  {
   "cell_type": "code",
   "execution_count": null,
   "metadata": {},
   "outputs": [],
   "source": [
    "number_elite_nodes"
   ]
  },
  {
   "cell_type": "code",
   "execution_count": null,
   "metadata": {},
   "outputs": [],
   "source": [
    "number_elite_edges"
   ]
  },
  {
   "cell_type": "code",
   "execution_count": null,
   "metadata": {},
   "outputs": [],
   "source": [
    "import matplotlib.pyplot as plt"
   ]
  },
  {
   "cell_type": "code",
   "execution_count": null,
   "metadata": {},
   "outputs": [],
   "source": [
    "plt.plot(range(1, 21), number_elite_nodes)\n",
    "plt.ylim([0,25000])"
   ]
  },
  {
   "cell_type": "code",
   "execution_count": null,
   "metadata": {},
   "outputs": [],
   "source": [
    "G = nx.Graph()\n",
    "for row in reviews.itertuples():\n",
    "    b = Node(row.business_id, BIZ)\n",
    "    u = Node(row.user_id, ELITE_USER if row.user_id in elite_ids else USER)\n",
    "    G.add_edge(u, b)"
   ]
  },
  {
   "cell_type": "code",
   "execution_count": null,
   "metadata": {},
   "outputs": [],
   "source": [
    "G = nx.Graph()\n",
    "for row in reviews.itertuples():\n",
    "    b = Node(row.business_id, BIZ)\n",
    "    u = Node(row.user_id, ELITE_USER if row.user_id in elite_ids else USER)\n",
    "    G.add_edge(u, b)"
   ]
  }
 ],
 "metadata": {
  "kernelspec": {
   "display_name": "Python 3",
   "language": "python",
   "name": "python3"
  },
  "language_info": {
   "codemirror_mode": {
    "name": "ipython",
    "version": 3
   },
   "file_extension": ".py",
   "mimetype": "text/x-python",
   "name": "python",
   "nbconvert_exporter": "python",
   "pygments_lexer": "ipython3",
   "version": "3.7.0"
  }
 },
 "nbformat": 4,
 "nbformat_minor": 2
}
