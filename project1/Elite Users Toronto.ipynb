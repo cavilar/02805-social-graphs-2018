{
 "cells": [
  {
   "cell_type": "code",
   "execution_count": 46,
   "metadata": {},
   "outputs": [],
   "source": [
    "import networkx as nx\n",
    "import matplotlib.pyplot as plt\n",
    "import numpy as np\n",
    "from networkx.algorithms import bipartite\n",
    "import pandas as pd"
   ]
  },
  {
   "cell_type": "code",
   "execution_count": 47,
   "metadata": {},
   "outputs": [],
   "source": [
    "def degree(g, nodes=None, as_list=True):\n",
    "    deg = None\n",
    "    if nodes:\n",
    "        deg = dict(g.degree(nodes))\n",
    "    else:\n",
    "        deg = dict(g.degree())\n",
    "    \n",
    "    if as_list:\n",
    "        return list(deg.values())\n",
    "    return deg\n",
    "\n",
    "def degree_plot(g, nodes, title=''):\n",
    "    deg = degree(g, nodes)\n",
    "    bins = 100\n",
    "    if len(nodes) < 100:\n",
    "        bins = len(nodes)\n",
    "    hist = np.histogram(deg, bins=bins)\n",
    "    v = range(min(deg), max(deg)+1)\n",
    "    freqs, edges = hist[0], hist[1]\n",
    "    n = freqs.size\n",
    "    means = [(edges[i] + edges[i+1]) / 2 for i in range(n)]\n",
    "    \n",
    "    # SCATTER PLOT\n",
    "    plt.plot(means, freqs, \".\")\n",
    "    plt.xlabel(\"k\")\n",
    "    plt.ylabel(\"frequency\")\n",
    "    plt.title(\"Degree distribution for %s\" % title)\n",
    "    plt.show()\n",
    "    \n",
    "    # LOG LOG PLOT\n",
    "    plt.loglog(means, freqs, \".\")\n",
    "    plt.xlabel(\"log(k)\")\n",
    "    plt.ylabel(\"log(frequency)\")\n",
    "    plt.title(\"Log-log degree distribution for %s\" % title)\n",
    "    plt.show()"
   ]
  },
  {
   "cell_type": "code",
   "execution_count": 84,
   "metadata": {},
   "outputs": [],
   "source": [
    "USER = 'user'\n",
    "ELITE_USER = 'elite_user'\n",
    "BIZ = 'biz'"
   ]
  },
  {
   "cell_type": "code",
   "execution_count": 15,
   "metadata": {},
   "outputs": [],
   "source": [
    "biz = pd.read_csv('toronto/toronto_biz.csv')\n",
    "user = pd.read_csv('toronto/toronto_users.csv')\n",
    "reviews = pd.read_csv('toronto/toronto_reviews.csv')\n",
    "elite_user = user[~user.elite.str.contains('None')]"
   ]
  },
  {
   "cell_type": "code",
   "execution_count": 45,
   "metadata": {},
   "outputs": [
    {
     "name": "stdout",
     "output_type": "stream",
     "text": [
      "#Reviews: 379875\n",
      "#Users: 84624\n",
      "#Elite users: 7499\n",
      "#Businesses: 9678\n"
     ]
    }
   ],
   "source": [
    "print('#Reviews:', len(reviews))\n",
    "print('#Users:', len(set(reviews.user_id)))\n",
    "print('#Elite users:', len(elite_user))\n",
    "print('#Businesses:', len(set(reviews.business_id)))"
   ]
  },
  {
   "cell_type": "markdown",
   "metadata": {},
   "source": [
    "### Creating the network"
   ]
  },
  {
   "cell_type": "code",
   "execution_count": 49,
   "metadata": {},
   "outputs": [],
   "source": [
    "# A node class for storing data.\n",
    "class Node:\n",
    "    def __init__(self, Data, Type):\n",
    "        self.Data = Data\n",
    "        self.Type = Type\n",
    "    \n",
    "    def to_string(self):\n",
    "        return \"Node (%s), Data: \" % (self.Type, self.Data)\n",
    "    \n",
    "    def __hash__(self):\n",
    "        return hash(self.Data)\n",
    "    def __eq__(self, other):\n",
    "        return (\n",
    "                self.__class__ == other.__class__ and \n",
    "                self.Data == other.Data\n",
    "               )"
   ]
  },
  {
   "cell_type": "code",
   "execution_count": 88,
   "metadata": {},
   "outputs": [],
   "source": [
    "elite_reviews.text = reviews[reviews.user_id.isin(elite_user.user_id)]"
   ]
  },
  {
   "cell_type": "code",
   "execution_count": 77,
   "metadata": {},
   "outputs": [],
   "source": [
    "elite_ids = set(elite_user.user_id)"
   ]
  },
  {
   "cell_type": "code",
   "execution_count": 194,
   "metadata": {},
   "outputs": [],
   "source": []
  },
  {
   "cell_type": "code",
   "execution_count": 197,
   "metadata": {},
   "outputs": [
    {
     "data": {
      "text/plain": [
       "27109"
      ]
     },
     "execution_count": 197,
     "metadata": {},
     "output_type": "execute_result"
    }
   ],
   "source": [
    "atleast2 = reviews.groupby('user_id').filter(lambda x: len(x) > 2)\n",
    "len(set(atleast2.user_id))"
   ]
  },
  {
   "cell_type": "raw",
   "metadata": {},
   "source": [
    "G = nx.Graph()\n",
    "for row in reviews.itertuples():\n",
    "    b = Node(row.business_id, BIZ)\n",
    "    u = Node(row.user_id, ELITE_USER if row.user_id in elite_ids else USER)\n",
    "    G.add_edge(u, b)"
   ]
  },
  {
   "cell_type": "code",
   "execution_count": null,
   "metadata": {},
   "outputs": [],
   "source": [
    "G = nx.Graph()\n",
    "for row in reviews.itertuples():\n",
    "    a_type = ELITE_USER if row.user_id in elite_ids else USER\n",
    "    a = Node(row.user_id, a_type)\n",
    "    user_ids = reviews[reviews.business_id == row.business_id].user_id\n",
    "    for uid in user_ids:\n",
    "        b_type = ELITE_USER if uid in elite_ids else USER\n",
    "        b = Node(uid, b_type)\n",
    "        G.add_edge(a, b)"
   ]
  },
  {
   "cell_type": "code",
   "execution_count": 184,
   "metadata": {},
   "outputs": [
    {
     "name": "stdout",
     "output_type": "stream",
     "text": [
      "Nodes: 94291\n",
      "Edges: 379875\n"
     ]
    }
   ],
   "source": [
    "print('Nodes:', len(G.nodes()))\n",
    "print('Edges:', len(G.edges()))"
   ]
  },
  {
   "cell_type": "markdown",
   "metadata": {},
   "source": [
    "### Degree Dist"
   ]
  },
  {
   "cell_type": "code",
   "execution_count": 102,
   "metadata": {},
   "outputs": [],
   "source": [
    "biz_nodes = [n for n in list(G.nodes()) if n.Type == BIZ]\n",
    "user_nodes = [n for n in list(G.nodes()) if n.Type == USER]\n",
    "elite_user_nodes = [n for n in list(G.nodes()) if n.Type == ELITE_USER]"
   ]
  },
  {
   "cell_type": "code",
   "execution_count": 106,
   "metadata": {},
   "outputs": [
    {
     "data": {
      "image/png": "[encoded data removed]",
      "text/plain": [
       "<Figure size 432x288 with 1 Axes>"
      ]
     },
     "metadata": {
      "needs_background": "light"
     },
     "output_type": "display_data"
    },
    {
     "data": {
      "image/png": "[encoded data removed]",
      "text/plain": [
       "<Figure size 432x288 with 1 Axes>"
      ]
     },
     "metadata": {
      "needs_background": "light"
     },
     "output_type": "display_data"
    }
   ],
   "source": [
    "degree_plot(G, biz_nodes, \"restaurants in Toronto\")"
   ]
  },
  {
   "cell_type": "code",
   "execution_count": 107,
   "metadata": {},
   "outputs": [
    {
     "data": {
      "image/png": "[encoded data removed]",
      "text/plain": [
       "<Figure size 432x288 with 1 Axes>"
      ]
     },
     "metadata": {
      "needs_background": "light"
     },
     "output_type": "display_data"
    },
    {
     "data": {
      "image/png": "[encoded data removed]",
      "text/plain": [
       "<Figure size 432x288 with 1 Axes>"
      ]
     },
     "metadata": {
      "needs_background": "light"
     },
     "output_type": "display_data"
    }
   ],
   "source": [
    "degree_plot(G, user_nodes, \"restaurants in Toronto\")"
   ]
  },
  {
   "cell_type": "markdown",
   "metadata": {},
   "source": [
    "### Largest subcomponent"
   ]
  },
  {
   "cell_type": "code",
   "execution_count": 187,
   "metadata": {},
   "outputs": [],
   "source": [
    "subgraphs = list(nx.connected_component_subgraphs(G))"
   ]
  },
  {
   "cell_type": "code",
   "execution_count": 192,
   "metadata": {},
   "outputs": [
    {
     "data": {
      "text/plain": [
       "[94246, 4, 4, 8, 4, 4, 5, 4, 4, 4, 4]"
      ]
     },
     "execution_count": 192,
     "metadata": {},
     "output_type": "execute_result"
    }
   ],
   "source": [
    "[len(sg.nodes()) for sg in subgraphs]"
   ]
  },
  {
   "cell_type": "code",
   "execution_count": 138,
   "metadata": {},
   "outputs": [
    {
     "name": "stdout",
     "output_type": "stream",
     "text": [
      "Nodes in largest subcomponent: 94246\n",
      "Edges in largest subcomponent: 379840\n"
     ]
    }
   ],
   "source": [
    "L = max(nx.connected_component_subgraphs(G), key=len)\n",
    "print(\"Nodes in largest subcomponent:\", len(L.nodes()))\n",
    "print(\"Edges in largest subcomponent:\", len(L.edges()))"
   ]
  },
  {
   "cell_type": "markdown",
   "metadata": {},
   "source": [
    "The graph is connected, and therefore the largest subcomponent is the graph itself."
   ]
  },
  {
   "cell_type": "markdown",
   "metadata": {},
   "source": [
    "### Eigenvector Centrality"
   ]
  },
  {
   "cell_type": "code",
   "execution_count": 140,
   "metadata": {},
   "outputs": [],
   "source": [
    "ev_centrality = nx.eigenvector_centrality_numpy(G)\n",
    "sorted_ev_centrality = sorted(ev_centrality.items(), key=lambda x: x[1], reverse=True)\n",
    "ev_elite_user = [(x,y) for (x,y) in sorted_ev_centrality if x.Type == ELITE_USER]"
   ]
  },
  {
   "cell_type": "markdown",
   "metadata": {},
   "source": [
    "### Degree Centrality"
   ]
  },
  {
   "cell_type": "markdown",
   "metadata": {},
   "source": [
    "### Removing elite users"
   ]
  },
  {
   "cell_type": "code",
   "execution_count": 157,
   "metadata": {},
   "outputs": [],
   "source": [
    "n = 20\n",
    "number_elite_nodes = np.zeros(n)\n",
    "number_elite_edges = np.zeros(n)"
   ]
  },
  {
   "cell_type": "code",
   "execution_count": 173,
   "metadata": {},
   "outputs": [],
   "source": [
    "G1 = G.copy()"
   ]
  },
  {
   "cell_type": "code",
   "execution_count": 159,
   "metadata": {},
   "outputs": [],
   "source": [
    "deg_centrality = nx.degree_centrality(G1)\n",
    "sorted_deg_centrality = sorted(deg_centrality.items(), key=lambda x: x[1], reverse=True)\n",
    "elite_user_by_degree = [x for (x,y) in sorted_deg_centrality if x.Type == ELITE_USER]"
   ]
  },
  {
   "cell_type": "code",
   "execution_count": 170,
   "metadata": {},
   "outputs": [],
   "source": [
    "one_percent = round(len(elite_user_by_degree) / 100)"
   ]
  },
  {
   "cell_type": "code",
   "execution_count": 175,
   "metadata": {},
   "outputs": [
    {
     "name": "stdout",
     "output_type": "stream",
     "text": [
      "Start of round 1...\n",
      "Start of round 2...\n",
      "Start of round 3...\n",
      "Start of round 4...\n",
      "Start of round 5...\n",
      "Start of round 6...\n",
      "Start of round 7...\n",
      "Start of round 8...\n",
      "Start of round 9...\n",
      "Start of round 10...\n",
      "Start of round 11...\n",
      "Start of round 12...\n",
      "Start of round 13...\n",
      "Start of round 14...\n",
      "Start of round 15...\n",
      "Start of round 16...\n",
      "Start of round 17...\n",
      "Start of round 18...\n",
      "Start of round 19...\n",
      "Start of round 20...\n"
     ]
    }
   ],
   "source": [
    "for i in range(n):\n",
    "    print(\"Start of round %i...\" % (i+1))\n",
    "    start, end = i * one_percent, (i+1) * one_percent\n",
    "    nodes_to_remove = elite_user_by_degree[start:end]\n",
    "    G1.remove_nodes_from(nodes_to_remove)\n",
    "    subgraph = max(nx.connected_component_subgraphs(G1), key=len)\n",
    "    number_elite_nodes[i] = len(subgraph.nodes())\n",
    "    number_elite_edges[i] = len(subgraph.edges())"
   ]
  },
  {
   "cell_type": "code",
   "execution_count": 176,
   "metadata": {},
   "outputs": [
    {
     "data": {
      "text/plain": [
       "array([94128., 94040., 93935., 93847., 93761., 93670., 93587., 93502.,\n",
       "       93417., 93333., 93243., 93158., 93074., 92979., 92886., 92795.,\n",
       "       92708., 92623., 92540., 92445.])"
      ]
     },
     "execution_count": 176,
     "metadata": {},
     "output_type": "execute_result"
    }
   ],
   "source": [
    "number_elite_nodes"
   ]
  },
  {
   "cell_type": "code",
   "execution_count": 178,
   "metadata": {},
   "outputs": [
    {
     "data": {
      "text/plain": [
       "array([360142., 348549., 339397., 331801., 325222., 319450., 314252.,\n",
       "       309438., 304975., 300827., 296992., 293429., 290120., 287030.,\n",
       "       284142., 281415., 278845., 276408., 274084., 271879.])"
      ]
     },
     "execution_count": 178,
     "metadata": {},
     "output_type": "execute_result"
    }
   ],
   "source": [
    "number_elite_edges"
   ]
  },
  {
   "cell_type": "code",
   "execution_count": null,
   "metadata": {},
   "outputs": [],
   "source": []
  }
 ],
 "metadata": {
  "kernelspec": {
   "display_name": "Python 3",
   "language": "python",
   "name": "python3"
  },
  "language_info": {
   "codemirror_mode": {
    "name": "ipython",
    "version": 3
   },
   "file_extension": ".py",
   "mimetype": "text/x-python",
   "name": "python",
   "nbconvert_exporter": "python",
   "pygments_lexer": "ipython3",
   "version": "3.7.0"
  }
 },
 "nbformat": 4,
 "nbformat_minor": 2
}
