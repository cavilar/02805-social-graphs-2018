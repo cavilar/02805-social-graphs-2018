{
 "cells": [
  {
   "cell_type": "code",
   "execution_count": 1,
   "metadata": {},
   "outputs": [],
   "source": [
    "import networkx as nx\n",
    "import matplotlib.pyplot as plt\n",
    "import numpy as np\n",
    "from networkx.algorithms import bipartite\n",
    "import pandas as pd\n",
    "import re\n",
    "import matplotlib\n",
    "font = {'family' : 'DejaVu Sans', 'weight' : 'normal', 'size'   : 22}\n",
    "matplotlib.rc('font', **font)"
   ]
  },
  {
   "cell_type": "code",
   "execution_count": 2,
   "metadata": {},
   "outputs": [],
   "source": [
    "def degree(g, nodes=None, as_list=True):\n",
    "    deg = dict(g.degree())\n",
    "    if nodes: deg = dict(g.degree(nodes))\n",
    "    \n",
    "    if as_list: return list(deg.values())\n",
    "    return deg\n",
    "\n",
    "def degree_plot(g, nodes=None, title=''):\n",
    "    deg = degree(g, nodes=nodes)\n",
    "    bins = 100\n",
    "    if len(nodes) < 100:\n",
    "        bins = len(nodes)\n",
    "    hist = np.histogram(deg, bins=bins)\n",
    "    freqs, edges = hist[0], hist[1]\n",
    "    n = freqs.size\n",
    "    means = [(edges[i] + edges[i+1]) / 2 for i in range(n)]\n",
    "    \n",
    "    # SCATTER PLOT\n",
    "    plt.figure(figsize=[15,10])\n",
    "    plt.plot(means, freqs, \".\", markersize=20)\n",
    "    plt.xlabel(\"k\")\n",
    "    plt.ylabel(\"frequency\")\n",
    "    plt.title(\"Degree distribution for %s\" % title)\n",
    "    plt.show()\n",
    "    \n",
    "    # LOG LOG PLOT\n",
    "    plt.figure(figsize=[15,10])\n",
    "    plt.loglog(means, freqs, \".\", markersize=20)\n",
    "    plt.xlabel(\"log(k)\")\n",
    "    plt.ylabel(\"log(frequency)\")\n",
    "    plt.title(\"Log-log degree distribution for %s\" % title)\n",
    "    plt.show()"
   ]
  },
  {
   "cell_type": "code",
   "execution_count": 3,
   "metadata": {},
   "outputs": [],
   "source": [
    "USER = 'user'\n",
    "ELITE_USER = 'elite_user'\n",
    "BIZ = 'biz'"
   ]
  },
  {
   "cell_type": "code",
   "execution_count": 4,
   "metadata": {},
   "outputs": [],
   "source": [
    "biz = pd.read_csv('toronto/toronto_biz.csv')\n",
    "user = pd.read_csv('toronto/toronto_users.csv')\n",
    "reviews = pd.read_csv('toronto/toronto_reviews.csv')\n",
    "elite_user = user[~user.elite.str.contains('None')]"
   ]
  },
  {
   "cell_type": "code",
   "execution_count": 5,
   "metadata": {},
   "outputs": [
    {
     "name": "stdout",
     "output_type": "stream",
     "text": [
      "#Reviews: 379875\n",
      "#Users: 84624\n",
      "#Elite users: 7499\n",
      "#Businesses: 9678\n"
     ]
    }
   ],
   "source": [
    "print('#Reviews:', len(reviews))\n",
    "print('#Users:', len(set(reviews.user_id)))\n",
    "print('#Elite users:', len(elite_user))\n",
    "print('#Businesses:', len(set(reviews.business_id)))"
   ]
  },
  {
   "cell_type": "code",
   "execution_count": 6,
   "metadata": {},
   "outputs": [
    {
     "data": {
      "text/html": [
       "<div>\n",
       "<style scoped>\n",
       "    .dataframe tbody tr th:only-of-type {\n",
       "        vertical-align: middle;\n",
       "    }\n",
       "\n",
       "    .dataframe tbody tr th {\n",
       "        vertical-align: top;\n",
       "    }\n",
       "\n",
       "    .dataframe thead th {\n",
       "        text-align: right;\n",
       "    }\n",
       "</style>\n",
       "<table border=\"1\" class=\"dataframe\">\n",
       "  <thead>\n",
       "    <tr style=\"text-align: right;\">\n",
       "      <th></th>\n",
       "      <th>Unnamed: 0</th>\n",
       "      <th>average_stars</th>\n",
       "      <th>elite</th>\n",
       "      <th>friends</th>\n",
       "      <th>name</th>\n",
       "      <th>review_count</th>\n",
       "      <th>useful</th>\n",
       "      <th>user_id</th>\n",
       "      <th>yelping_since</th>\n",
       "      <th>ev</th>\n",
       "    </tr>\n",
       "  </thead>\n",
       "  <tbody>\n",
       "    <tr>\n",
       "      <th>0</th>\n",
       "      <td>0</td>\n",
       "      <td>2.00</td>\n",
       "      <td>None</td>\n",
       "      <td>None</td>\n",
       "      <td>Susan</td>\n",
       "      <td>1</td>\n",
       "      <td>0</td>\n",
       "      <td>lzlZwIpuSWXEnNS91wxjHw</td>\n",
       "      <td>2015-09-28</td>\n",
       "      <td>0.000012</td>\n",
       "    </tr>\n",
       "    <tr>\n",
       "      <th>1</th>\n",
       "      <td>1</td>\n",
       "      <td>1.00</td>\n",
       "      <td>None</td>\n",
       "      <td>None</td>\n",
       "      <td>Ying</td>\n",
       "      <td>1</td>\n",
       "      <td>0</td>\n",
       "      <td>bwPVGW1Mx0qmS_qNQ7xmYg</td>\n",
       "      <td>2012-02-09</td>\n",
       "      <td>0.000065</td>\n",
       "    </tr>\n",
       "    <tr>\n",
       "      <th>2</th>\n",
       "      <td>2</td>\n",
       "      <td>3.50</td>\n",
       "      <td>None</td>\n",
       "      <td>None</td>\n",
       "      <td>Vai</td>\n",
       "      <td>4</td>\n",
       "      <td>0</td>\n",
       "      <td>JcKUiHAQ9cWGSO_qFbzlKw</td>\n",
       "      <td>2009-12-28</td>\n",
       "      <td>0.001124</td>\n",
       "    </tr>\n",
       "    <tr>\n",
       "      <th>3</th>\n",
       "      <td>3</td>\n",
       "      <td>1.75</td>\n",
       "      <td>None</td>\n",
       "      <td>None</td>\n",
       "      <td>Walter</td>\n",
       "      <td>4</td>\n",
       "      <td>1</td>\n",
       "      <td>mNzy0-YVTJTP2jqHR7zWwQ</td>\n",
       "      <td>2014-05-31</td>\n",
       "      <td>0.000262</td>\n",
       "    </tr>\n",
       "    <tr>\n",
       "      <th>4</th>\n",
       "      <td>4</td>\n",
       "      <td>2.00</td>\n",
       "      <td>None</td>\n",
       "      <td>None</td>\n",
       "      <td>K</td>\n",
       "      <td>3</td>\n",
       "      <td>0</td>\n",
       "      <td>AAxJbjcq94NaqUJGFE362g</td>\n",
       "      <td>2013-07-08</td>\n",
       "      <td>0.000045</td>\n",
       "    </tr>\n",
       "  </tbody>\n",
       "</table>\n",
       "</div>"
      ],
      "text/plain": [
       "   Unnamed: 0  average_stars elite friends    name  review_count  useful  \\\n",
       "0           0           2.00  None    None   Susan             1       0   \n",
       "1           1           1.00  None    None    Ying             1       0   \n",
       "2           2           3.50  None    None     Vai             4       0   \n",
       "3           3           1.75  None    None  Walter             4       1   \n",
       "4           4           2.00  None    None       K             3       0   \n",
       "\n",
       "                  user_id yelping_since        ev  \n",
       "0  lzlZwIpuSWXEnNS91wxjHw    2015-09-28  0.000012  \n",
       "1  bwPVGW1Mx0qmS_qNQ7xmYg    2012-02-09  0.000065  \n",
       "2  JcKUiHAQ9cWGSO_qFbzlKw    2009-12-28  0.001124  \n",
       "3  mNzy0-YVTJTP2jqHR7zWwQ    2014-05-31  0.000262  \n",
       "4  AAxJbjcq94NaqUJGFE362g    2013-07-08  0.000045  "
      ]
     },
     "execution_count": 6,
     "metadata": {},
     "output_type": "execute_result"
    }
   ],
   "source": [
    "user.head()"
   ]
  },
  {
   "cell_type": "markdown",
   "metadata": {},
   "source": [
    "## Social Network (Friends)\n",
    "### Make friend List"
   ]
  },
  {
   "cell_type": "code",
   "execution_count": 7,
   "metadata": {},
   "outputs": [],
   "source": [
    "elite_ids = set(elite_user.user_id)"
   ]
  },
  {
   "cell_type": "code",
   "execution_count": 8,
   "metadata": {},
   "outputs": [],
   "source": [
    "users_with_friends = user[user.friends != 'None']"
   ]
  },
  {
   "cell_type": "code",
   "execution_count": 9,
   "metadata": {},
   "outputs": [],
   "source": [
    "friend_list = dict()\n",
    "for row in users_with_friends.itertuples():\n",
    "    friend_list[row.user_id] = re.split(r',', row.friends)"
   ]
  },
  {
   "cell_type": "markdown",
   "metadata": {},
   "source": [
    "### Creating the social network"
   ]
  },
  {
   "cell_type": "code",
   "execution_count": 10,
   "metadata": {},
   "outputs": [],
   "source": [
    "# A node class for storing data.\n",
    "class Node:\n",
    "    def __init__(self, Data, Type):\n",
    "        self.Data = Data\n",
    "        self.Type = Type\n",
    "    \n",
    "    def to_string(self):\n",
    "        return \"Node (%s), Data: \" % (self.Type, self.Data)\n",
    "    \n",
    "    def __hash__(self):\n",
    "        return hash(self.Data)\n",
    "    def __eq__(self, other):\n",
    "        return (\n",
    "                self.__class__ == other.__class__ and \n",
    "                self.Data == other.Data\n",
    "               )"
   ]
  },
  {
   "cell_type": "code",
   "execution_count": 11,
   "metadata": {},
   "outputs": [],
   "source": [
    "social_network = nx.Graph()\n",
    "for uid in users_with_friends.user_id:\n",
    "    a = Node(uid, ELITE_USER if uid in elite_ids else USER)\n",
    "    for fid in friend_list[uid]:\n",
    "        b = Node(fid, ELITE_USER if fid in elite_ids else USER)\n",
    "        social_network.add_edge(a, b)"
   ]
  },
  {
   "cell_type": "code",
   "execution_count": 12,
   "metadata": {},
   "outputs": [
    {
     "name": "stdout",
     "output_type": "stream",
     "text": [
      "Nodes: 1552431\n",
      "Edges: 3214980\n"
     ]
    }
   ],
   "source": [
    "N,L = len(social_network.nodes()), len(social_network.edges())\n",
    "\n",
    "print('Nodes:', N)\n",
    "print('Edges:', L)"
   ]
  },
  {
   "cell_type": "markdown",
   "metadata": {},
   "source": [
    "#### Degree distributions"
   ]
  },
  {
   "cell_type": "code",
   "execution_count": 13,
   "metadata": {},
   "outputs": [],
   "source": [
    "user_nodes = [n for n in list(social_network.nodes()) if n.Type == USER]\n",
    "elite_nodes = [n for n in list(social_network.nodes()) if n.Type == ELITE_USER]"
   ]
  },
  {
   "cell_type": "code",
   "execution_count": 14,
   "metadata": {},
   "outputs": [
    {
     "name": "stdout",
     "output_type": "stream",
     "text": [
      "Regular User Nodes: 1544962\n",
      "Elite User Nodes: 7469\n"
     ]
    }
   ],
   "source": [
    "print('Regular User Nodes:', len(user_nodes))\n",
    "print('Elite User Nodes:', len(elite_nodes))"
   ]
  },
  {
   "cell_type": "code",
   "execution_count": 15,
   "metadata": {},
   "outputs": [
    {
     "data": {
      "image/png": "[encoded data removed]",
      "text/plain": [
       "<Figure size 1080x720 with 1 Axes>"
      ]
     },
     "metadata": {
      "needs_background": "light"
     },
     "output_type": "display_data"
    },
    {
     "data": {
      "image/png": "[encoded data removed]",
      "text/plain": [
       "<Figure size 1080x720 with 1 Axes>"
      ]
     },
     "metadata": {
      "needs_background": "light"
     },
     "output_type": "display_data"
    }
   ],
   "source": [
    "degree_plot(social_network, user_nodes, \"user nodes\")"
   ]
  },
  {
   "cell_type": "code",
   "execution_count": 16,
   "metadata": {},
   "outputs": [
    {
     "data": {
      "image/png": "[encoded data removed]",
      "text/plain": [
       "<Figure size 1080x720 with 1 Axes>"
      ]
     },
     "metadata": {
      "needs_background": "light"
     },
     "output_type": "display_data"
    },
    {
     "data": {
      "image/png": "[encoded data removed]",
      "text/plain": [
       "<Figure size 1080x720 with 1 Axes>"
      ]
     },
     "metadata": {
      "needs_background": "light"
     },
     "output_type": "display_data"
    }
   ],
   "source": [
    "degree_plot(social_network, elite_nodes, \"elite nodes\")"
   ]
  },
  {
   "cell_type": "code",
   "execution_count": 17,
   "metadata": {},
   "outputs": [
    {
     "name": "stdout",
     "output_type": "stream",
     "text": [
      "Nodes: 1552431\n",
      "Edges: 3214980\n"
     ]
    }
   ],
   "source": [
    "print('Nodes:', len(social_network.nodes()))\n",
    "print('Edges:', len(social_network.edges()))"
   ]
  },
  {
   "cell_type": "code",
   "execution_count": 18,
   "metadata": {},
   "outputs": [
    {
     "name": "stdout",
     "output_type": "stream",
     "text": [
      "Nodes in largest subcomponent: 1534169\n",
      "Edges in largest subcomponent: 3202099\n"
     ]
    }
   ],
   "source": [
    "L = max(nx.connected_component_subgraphs(social_network), key=len)\n",
    "print(\"Nodes in largest subcomponent:\", len(L.nodes()))\n",
    "print(\"Edges in largest subcomponent:\", len(L.edges()))"
   ]
  },
  {
   "cell_type": "code",
   "execution_count": 19,
   "metadata": {},
   "outputs": [
    {
     "data": {
      "text/plain": [
       "0.0009880679197519305"
      ]
     },
     "execution_count": 19,
     "metadata": {},
     "output_type": "execute_result"
    }
   ],
   "source": [
    "nx.average_clustering(social_network)"
   ]
  },
  {
   "cell_type": "markdown",
   "metadata": {},
   "source": [
    "### Eigenvector Centrality"
   ]
  },
  {
   "cell_type": "code",
   "execution_count": 23,
   "metadata": {},
   "outputs": [],
   "source": [
    "ev = nx.eigenvector_centrality_numpy(social_network)\n",
    "ev_avg_elite = np.mean([ev[node]for node in ev if node.Type == ELITE_USER])\n",
    "ev_avg_reg = np.mean([ev[node]for node in ev if node.Type == USER])\n",
    "ev_avg_all = np.mean([ev[node]for node in ev if node.Type == USER or node.Type == ELITE_USER])"
   ]
  },
  {
   "cell_type": "code",
   "execution_count": 24,
   "metadata": {},
   "outputs": [
    {
     "data": {
      "text/plain": [
       "(0.002396526809047231, 9.814012527349723e-05, 0.00010919804033774562)"
      ]
     },
     "execution_count": 24,
     "metadata": {},
     "output_type": "execute_result"
    }
   ],
   "source": [
    "ev_avg_elite, ev_avg_reg, ev_avg_all"
   ]
  },
  {
   "cell_type": "markdown",
   "metadata": {},
   "source": [
    "### Degree Centrality"
   ]
  },
  {
   "cell_type": "code",
   "execution_count": 25,
   "metadata": {},
   "outputs": [],
   "source": [
    "dg = nx.degree_centrality(social_network)\n",
    "dg_avg_elite = np.mean([dg[node]for node in dg if node.Type == ELITE_USER])\n",
    "dg_avg_reg = np.mean([dg[node]for node in dg if node.Type == USER])\n",
    "dg_avg_all = np.mean([dg[node]for node in dg if node.Type == USER or node.Type == ELITE_USER])"
   ]
  },
  {
   "cell_type": "code",
   "execution_count": 26,
   "metadata": {},
   "outputs": [
    {
     "data": {
      "text/plain": [
       "(0.0001309198750509749, 2.0479645218151803e-06, 2.667988406768709e-06)"
      ]
     },
     "execution_count": 26,
     "metadata": {},
     "output_type": "execute_result"
    }
   ],
   "source": [
    "dg_avg_elite, dg_avg_reg, dg_avg_all"
   ]
  },
  {
   "cell_type": "markdown",
   "metadata": {},
   "source": [
    "### Removing elite users"
   ]
  },
  {
   "cell_type": "code",
   "execution_count": 29,
   "metadata": {},
   "outputs": [],
   "source": [
    "n = 20\n",
    "N_elite = np.zeros(n)\n",
    "N_reg = np.zeros(n)\n",
    "N_lcc = np.zeros(n)"
   ]
  },
  {
   "cell_type": "code",
   "execution_count": 30,
   "metadata": {},
   "outputs": [],
   "source": [
    "g = social_network.copy()"
   ]
  },
  {
   "cell_type": "code",
   "execution_count": 32,
   "metadata": {},
   "outputs": [],
   "source": [
    "sorted_deg_centrality = sorted(dg.items(), key=lambda x: x[1], reverse=True)\n",
    "elite_user_by_degree = [x for (x,y) in sorted_deg_centrality if x.Type == ELITE_USER]"
   ]
  },
  {
   "cell_type": "code",
   "execution_count": 33,
   "metadata": {},
   "outputs": [],
   "source": [
    "one_percent = round(len(elite_user_by_degree) / 100)"
   ]
  },
  {
   "cell_type": "code",
   "execution_count": 34,
   "metadata": {},
   "outputs": [
    {
     "name": "stdout",
     "output_type": "stream",
     "text": [
      "Start of round 1...\n",
      "Start of round 2...\n",
      "Start of round 3...\n",
      "Start of round 4...\n",
      "Start of round 5...\n",
      "Start of round 6...\n",
      "Start of round 7...\n",
      "Start of round 8...\n",
      "Start of round 9...\n",
      "Start of round 10...\n",
      "Start of round 11...\n",
      "Start of round 12...\n",
      "Start of round 13...\n",
      "Start of round 14...\n",
      "Start of round 15...\n",
      "Start of round 16...\n",
      "Start of round 17...\n",
      "Start of round 18...\n",
      "Start of round 19...\n",
      "Start of round 20...\n"
     ]
    }
   ],
   "source": [
    "for i in range(n):\n",
    "    print(\"Start of round %i...\" % (i+1))\n",
    "    start, end = i * one_percent, (i+1) * one_percent\n",
    "    nodes_to_remove = elite_user_by_degree[start:end]\n",
    "    g.remove_nodes_from(nodes_to_remove)\n",
    "    subgraph = max(nx.connected_component_subgraphs(g), key=len)\n",
    "    N_elite[i] = len([n for n in subgraph.nodes() if n.Type == ELITE_USER])\n",
    "    N_reg[i] = len([n for n in subgraph.nodes() if n.Type == USER])\n",
    "    N_lcc[i] = len(subgraph.nodes())"
   ]
  },
  {
   "cell_type": "code",
   "execution_count": 35,
   "metadata": {},
   "outputs": [],
   "source": [
    "df = pd.DataFrame([N_elite, N_reg, N_lcc]).T"
   ]
  },
  {
   "cell_type": "code",
   "execution_count": 37,
   "metadata": {},
   "outputs": [],
   "source": [
    "df.columns = ['elite', 'reg', 'lcc']"
   ]
  },
  {
   "cell_type": "code",
   "execution_count": 38,
   "metadata": {},
   "outputs": [],
   "source": [
    "df.to_csv('lcc.csv')"
   ]
  },
  {
   "cell_type": "code",
   "execution_count": 41,
   "metadata": {},
   "outputs": [
    {
     "data": {
      "text/plain": [
       "[<matplotlib.lines.Line2D at 0xc77607e80>]"
      ]
     },
     "execution_count": 41,
     "metadata": {},
     "output_type": "execute_result"
    },
    {
     "data": {
      "image/png": "[encoded data removed]",
      "text/plain": [
       "<Figure size 432x288 with 1 Axes>"
      ]
     },
     "metadata": {
      "needs_background": "light"
     },
     "output_type": "display_data"
    }
   ],
   "source": [
    "plt.plot(N_lcc / max(N_lcc))\n",
    "plt.plot(N_elite / max(N_elite))\n",
    "plt.plot(N_reg/ max(N_reg))"
   ]
  },
  {
   "cell_type": "code",
   "execution_count": 42,
   "metadata": {},
   "outputs": [
    {
     "data": {
      "text/plain": [
       "array([7360., 7284., 7206., 7130., 7055., 6978., 6903., 6828., 6753.,\n",
       "       6678., 6603., 6528., 6453., 6378., 6303., 6228., 6152., 6076.,\n",
       "       6001., 5926.])"
      ]
     },
     "execution_count": 42,
     "metadata": {},
     "output_type": "execute_result"
    }
   ],
   "source": [
    "N_elite"
   ]
  },
  {
   "cell_type": "code",
   "execution_count": 43,
   "metadata": {},
   "outputs": [
    {
     "data": {
      "text/plain": [
       "array([1443643., 1414555., 1393854., 1373618., 1353462., 1337220.,\n",
       "       1321391., 1306825., 1293818., 1280872., 1268836., 1258217.,\n",
       "       1247216., 1237748., 1228732., 1219773., 1211434., 1203140.,\n",
       "       1195035., 1188121.])"
      ]
     },
     "execution_count": 43,
     "metadata": {},
     "output_type": "execute_result"
    }
   ],
   "source": [
    "N_reg"
   ]
  },
  {
   "cell_type": "code",
   "execution_count": null,
   "metadata": {},
   "outputs": [],
   "source": []
  }
 ],
 "metadata": {
  "kernelspec": {
   "display_name": "Python 3",
   "language": "python",
   "name": "python3"
  },
  "language_info": {
   "codemirror_mode": {
    "name": "ipython",
    "version": 3
   },
   "file_extension": ".py",
   "mimetype": "text/x-python",
   "name": "python",
   "nbconvert_exporter": "python",
   "pygments_lexer": "ipython3",
   "version": "3.7.0"
  }
 },
 "nbformat": 4,
 "nbformat_minor": 2
}
