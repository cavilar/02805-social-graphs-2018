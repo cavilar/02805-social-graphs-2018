{
 "cells": [
  {
   "cell_type": "markdown",
   "metadata": {},
   "source": [
    "## Motivation\n",
    "### What is your dataset?\n",
    "The dataset used in this project comes from the data provided for the Yelp Dataset Challenge. This dataset consists of about 1.5 million users and about 200 thousand businesses from North America.  Additionally the dataset includes just under 6 million reviews, made by users of the Yelp service, to businesses. The businesses included in the dataset are both restaurants as well as businesses offering other services, such as postal delivery. "
   ]
  },
  {
   "cell_type": "markdown",
   "metadata": {},
   "source": [
    "### Why did you choose this/these particular dataset(s)?\n",
    "The dataset is tremendous\n",
    "### What was your goal for the end user's experience?\n",
    "The purpose of this project is to investigate properties of Yelp’s Elite users. For this paper, the focus will lie on Yelp’s two primary claims about their Elite users:\n",
    "\n",
    "Yelp states that its Elite users have high connectivity, which means that they are connected with many other users and interact often with members of their Yelp community. \n",
    "\n",
    "Yelp claims that its Elite users make up the “true heart of the Yelp community.” Third, Yelp claims that its users have high contribution, which means that the user has made a large impact on the site with meaningful and high-quality reviews. \n",
    "\n",
    "The first goal of our project is to analyze whether the above claims about Yelp’s Elite users are quantifiably valid. For this, we will specify several characteristics which we expect Elite users to have based on these claims. We will then perform analyses on Yelp’s dataset in order to determine whether these properties are truly represented among the Elite users. The secondary goal of our project is to find which properties are most indicative of Elite status on Yelp. \n",
    "\n",
    "The analyses for the first goal can be used for this purpose as well. This kind of information may be useful for those who are interested in becoming Elite members on Yelp. In order to become a member of the “Elite squad,” a user must go through an application process. Despite the suggestions presented above, Yelp doesn’t provide any specific criteria on exactly what characteristics a user must have to become Elite. The mystery behind the selection process for Elite users is well-documented.\n",
    "\n",
    "\n"
   ]
  },
  {
   "cell_type": "markdown",
   "metadata": {},
   "source": [
    "## Basic stats. Let's understand the dataset better\n",
    "### Write about your choices in data cleaning and preprocessing\n",
    "- Ugly JSON to Correct JSON\n",
    "- JSON to DataFrame, to CSV (takes up less space)\n",
    "- Select only those businesses which are located in Toronto\n",
    "- Filter out non-restaurants\n",
    "- Use the dataframe of Toronto restaurants to identify reviews made by a user, reviewing a Toronto restaurants\n",
    "- Use the list of Toronto reviews to filter out users who have not contributed to the Toronto Yelp reviews\n",
    "\n",
    "### Write a short section that discusses the dataset stats (here you can recycle the work you did for Project Assignment A)\n",
    "- Reviews: ~6 million\n",
    "- Users: Many\n",
    "- Businesses: ~200,000\n",
    "\n",
    "For this project the restaurants in Toronto were the main focus, as Toronto is a big city with more than a sufficient amount of data to perform a serious analysis, but small enough for various graph algorithms to be carried out. The users considered in this project were all the users who left a review on a business in Toronto.\n",
    "\n",
    "- Period: March 1st 2008 to August 1st 2018\n",
    "- Reviews: ~380,000\n",
    "- Users: ~85,000\n",
    "- Elite users hereof: ~7,500\n",
    "- Restaurants: ~10,000\n",
    "\n",
    "This is analogous to the paper which had 250k nodes and 950k edges, where both are just scaled up by around a factor of 2.5!\n",
    "\n",
    "\n"
   ]
  },
  {
   "cell_type": "markdown",
   "metadata": {},
   "source": [
    "## Tools, theory and analysis. Describe the process of theory to insight\n",
    "### Talk about how you've worked with text, including regular expressions, unicode, etc.\n",
    "### Describe which network science tools and data analysis strategies you've used, how those network science measures work, and why the tools you've chosen are right for the problem you're solving.\n",
    "#### Modelling the network\n",
    "The Toronto Yelp review network was modelled as an undirected graph, containing user nodes where the edges between two user nodes represent the fact two users have reviewed the same restaurant. \n",
    "\n",
    "#### Most connected subcomponent\n",
    "Detecting how important the elite users were for the network was done by deleting them one by one from the graph, and then watching how the largest connected subgraph shrinks. The elite users were deleted based on their degree centrality.\n",
    "### How did you use the tools to understand your dataset?\n",
    "\n"
   ]
  },
  {
   "cell_type": "markdown",
   "metadata": {},
   "source": [
    "## Discussion. Think critically about your creation\n",
    "### What went well?\n",
    "### What is still missing? What could be improved?"
   ]
  }
 ],
 "metadata": {
  "kernelspec": {
   "display_name": "Python 3",
   "language": "python",
   "name": "python3"
  },
  "language_info": {
   "codemirror_mode": {
    "name": "ipython",
    "version": 3
   },
   "file_extension": ".py",
   "mimetype": "text/x-python",
   "name": "python",
   "nbconvert_exporter": "python",
   "pygments_lexer": "ipython3",
   "version": "3.7.0"
  }
 },
 "nbformat": 4,
 "nbformat_minor": 2
}
