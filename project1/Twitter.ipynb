{
 "cells": [
  {
   "cell_type": "code",
   "execution_count": 1,
   "metadata": {},
   "outputs": [
    {
     "name": "stdout",
     "output_type": "stream",
     "text": [
      "Collecting python-twitter\n",
      "\u001b[?25l  Downloading https://files.pythonhosted.org/packages/b3/a9/2eb36853d8ca49a70482e2332aa5082e09b3180391671101b1612e3aeaf1/python_twitter-3.5-py2.py3-none-any.whl (67kB)\n",
      "\u001b[K    100% |████████████████████████████████| 71kB 1.6MB/s \n",
      "\u001b[?25hCollecting requests-oauthlib (from python-twitter)\n",
      "  Downloading https://files.pythonhosted.org/packages/94/e7/c250d122992e1561690d9c0f7856dadb79d61fd4bdd0e598087dce607f6c/requests_oauthlib-1.0.0-py2.py3-none-any.whl\n",
      "Collecting future (from python-twitter)\n",
      "\u001b[?25l  Downloading https://files.pythonhosted.org/packages/90/52/e20466b85000a181e1e144fd8305caf2cf475e2f9674e797b222f8105f5f/future-0.17.1.tar.gz (829kB)\n",
      "\u001b[K    100% |████████████████████████████████| 829kB 1.6MB/s \n",
      "\u001b[?25hRequirement already satisfied: requests in /Users/tnni/anaconda3/lib/python3.7/site-packages (from python-twitter) (2.19.1)\n",
      "Collecting oauthlib>=0.6.2 (from requests-oauthlib->python-twitter)\n",
      "\u001b[?25l  Downloading https://files.pythonhosted.org/packages/e6/d1/ddd9cfea3e736399b97ded5c2dd62d1322adef4a72d816f1ed1049d6a179/oauthlib-2.1.0-py2.py3-none-any.whl (121kB)\n",
      "\u001b[K    100% |████████████████████████████████| 122kB 2.2MB/s \n",
      "\u001b[?25hRequirement already satisfied: chardet<3.1.0,>=3.0.2 in /Users/tnni/anaconda3/lib/python3.7/site-packages (from requests->python-twitter) (3.0.4)\n",
      "Requirement already satisfied: idna<2.8,>=2.5 in /Users/tnni/anaconda3/lib/python3.7/site-packages (from requests->python-twitter) (2.7)\n",
      "Requirement already satisfied: certifi>=2017.4.17 in /Users/tnni/anaconda3/lib/python3.7/site-packages (from requests->python-twitter) (2018.8.24)\n",
      "Requirement already satisfied: urllib3<1.24,>=1.21.1 in /Users/tnni/anaconda3/lib/python3.7/site-packages (from requests->python-twitter) (1.23)\n",
      "Building wheels for collected packages: future\n",
      "  Running setup.py bdist_wheel for future ... \u001b[?25ldone\n",
      "\u001b[?25h  Stored in directory: /Users/tnni/Library/Caches/pip/wheels/0c/61/d2/d6b7317325828fbb39ee6ad559dbe4664d0896da4721bf379e\n",
      "Successfully built future\n",
      "\u001b[31mtwisted 18.7.0 requires PyHamcrest>=1.9.0, which is not installed.\u001b[0m\n",
      "Installing collected packages: oauthlib, requests-oauthlib, future, python-twitter\n",
      "Successfully installed future-0.17.1 oauthlib-2.1.0 python-twitter-3.5 requests-oauthlib-1.0.0\n",
      "\u001b[33mYou are using pip version 10.0.1, however version 18.1 is available.\n",
      "You should consider upgrading via the 'pip install --upgrade pip' command.\u001b[0m\n"
     ]
    }
   ],
   "source": [
    "!pip install python-twitter"
   ]
  },
  {
   "cell_type": "code",
   "execution_count": null,
   "metadata": {},
   "outputs": [],
   "source": []
  },
  {
   "cell_type": "code",
   "execution_count": 2,
   "metadata": {},
   "outputs": [],
   "source": [
    "import twitter"
   ]
  },
  {
   "cell_type": "code",
   "execution_count": 6,
   "metadata": {},
   "outputs": [],
   "source": [
    "key = 'BM9stMVWpf5K1DET1ej95yAze'\n",
    "key_secret = 'NRwpZSnKcbfwcsgutGAS04KXDoaFXkWW2HHjBwFtWbY1UKNqcH'\n",
    "access_token = '1055016384906887169-r8mTHO5aoAFlYb7cicqfEpqAhPrIfl'\n",
    "access_token_secret = 'z8hPh0RsecmugtfrvV5sVH7asctGB7GhlAOCylUaCnm6N'"
   ]
  },
  {
   "cell_type": "code",
   "execution_count": null,
   "metadata": {},
   "outputs": [],
   "source": [
    "results = api.GetSearch(\n",
    "    raw_query=\"q=twitter%20&result_type=recent&since=2014-07-19&count=100\")"
   ]
  },
  {
   "cell_type": "code",
   "execution_count": null,
   "metadata": {},
   "outputs": [],
   "source": []
  },
  {
   "cell_type": "code",
   "execution_count": 7,
   "metadata": {},
   "outputs": [],
   "source": [
    "api = twitter.Api(consumer_key=key,\n",
    "                      consumer_secret=key_secret,\n",
    "                      access_token_key=access_token,\n",
    "                      access_token_secret=access_token_secret\n",
    "                 )"
   ]
  },
  {
   "cell_type": "code",
   "execution_count": 15,
   "metadata": {},
   "outputs": [
    {
     "data": {
      "text/plain": [
       "[Status(ID=1062557546186190849, ScreenName=claimcompanies, Created=Wed Nov 14 04:07:15 +0000 2018, Text='RT @Mariajmd5: United airlines is annoying . delayed the flight an 1hr. At the gate  then you get on the plane and then they delay it anoth…'),\n",
       " Status(ID=1062555116862164992, ScreenName=Mariajmd5, Created=Wed Nov 14 03:57:35 +0000 2018, Text='United airlines is annoying . delayed the flight an 1hr. At the gate  then you get on the plane and then they delay… https://t.co/sZgPcx4708'),\n",
       " Status(ID=1062545905788829697, ScreenName=Vinnie_Vee, Created=Wed Nov 14 03:20:59 +0000 2018, Text='Hey @unitedairlines how long does it take for award mileage to hit your account? After itinerary is completed, is t… https://t.co/tKi2kUlWeU'),\n",
       " Status(ID=1062521313863106560, ScreenName=Thom_Howard, Created=Wed Nov 14 01:43:16 +0000 2018, Text=\"@UnitedAirlines we are now waiting for our plane because you couldn't do a maintenance check while it sat on the ground for over an hour\"),\n",
       " Status(ID=1062441104379793408, ScreenName=scottjoachim, Created=Tue Nov 13 20:24:33 +0000 2018, Text='@UnitedAirlines Yes please.  Thank you for clearing #UA5349.   Only flying in for a few hours today - already over… https://t.co/Pm9XgurfUr'),\n",
       " Status(ID=1062429469846183936, ScreenName=maxipico, Created=Tue Nov 13 19:38:19 +0000 2018, Text='RT @ReclamosViajero: @almundo_ar lleno de quejas y sin respuestas.\\nMultan por cambiar un pasaje por familiar con enfermedad terminal , mien…'),\n",
       " Status(ID=1062429347875876864, ScreenName=panchoruis, Created=Tue Nov 13 19:37:50 +0000 2018, Text='RT @ReclamosViajero: @almundo_ar lleno de quejas y sin respuestas.\\nMultan por cambiar un pasaje por familiar con enfermedad terminal , mien…'),\n",
       " Status(ID=1062429255617990657, ScreenName=mauro976mdq, Created=Tue Nov 13 19:37:28 +0000 2018, Text='RT @ReclamosViajero: @almundo_ar lleno de quejas y sin respuestas.\\nMultan por cambiar un pasaje por familiar con enfermedad terminal , mien…'),\n",
       " Status(ID=1062429163150327808, ScreenName=ReclamosViajero, Created=Tue Nov 13 19:37:06 +0000 2018, Text='RT @ReclamosViajero: @almundo_ar lleno de quejas y sin respuestas.\\nMultan por cambiar un pasaje por familiar con enfermedad terminal , mien…'),\n",
       " Status(ID=1062429072419180547, ScreenName=ReclamosViajero, Created=Tue Nov 13 19:36:44 +0000 2018, Text='@almundo_ar lleno de quejas y sin respuestas.\\nMultan por cambiar un pasaje por familiar con enfermedad terminal , m… https://t.co/VH5i7o5rIz'),\n",
       " Status(ID=1062426199664848902, ScreenName=Diegoahumado, Created=Tue Nov 13 19:25:19 +0000 2018, Text='RT @ReclamosViajero: @almundo_ar La respuesta de ustedes fue una multa del 60% , no tienen consideración alguna.  Son una vergüenza , un fa…'),\n",
       " Status(ID=1062426176499732481, ScreenName=Diegoahumado, Created=Tue Nov 13 19:25:14 +0000 2018, Text='RT @ReclamosViajero: @almundo_ar le quiere cobrar una multa del 60% por cambiar una fecha de vuelo debido a una enfermedad terminal de un f…'),\n",
       " Status(ID=1062425927991345152, ScreenName=maxipico, Created=Tue Nov 13 19:24:14 +0000 2018, Text='RT @ReclamosViajero: @almundo_ar La respuesta de ustedes fue una multa del 60% , no tienen consideración alguna.  Son una vergüenza , un fa…'),\n",
       " Status(ID=1062425816812916736, ScreenName=panchoruis, Created=Tue Nov 13 19:23:48 +0000 2018, Text='RT @ReclamosViajero: @almundo_ar La respuesta de ustedes fue una multa del 60% , no tienen consideración alguna.  Son una vergüenza , un fa…'),\n",
       " Status(ID=1062425699380813824, ScreenName=mauro976mdq, Created=Tue Nov 13 19:23:20 +0000 2018, Text='RT @ReclamosViajero: @almundo_ar La respuesta de ustedes fue una multa del 60% , no tienen consideración alguna.  Son una vergüenza , un fa…')]"
      ]
     },
     "execution_count": 15,
     "metadata": {},
     "output_type": "execute_result"
    }
   ],
   "source": [
    "api.GetSearch(term='@unitedairlines')"
   ]
  },
  {
   "cell_type": "code",
   "execution_count": null,
   "metadata": {},
   "outputs": [],
   "source": [
    "()"
   ]
  },
  {
   "cell_type": "code",
   "execution_count": 8,
   "metadata": {},
   "outputs": [],
   "source": [
    "house_members = api.GetListMembers(slug='u-s-representatives',owner_screen_name='cspan')"
   ]
  },
  {
   "cell_type": "code",
   "execution_count": 10,
   "metadata": {},
   "outputs": [
    {
     "name": "stdout",
     "output_type": "stream",
     "text": [
      "Collecting tweepy\n",
      "  Downloading https://files.pythonhosted.org/packages/05/f1/2e8c7b202dd04117a378ac0c55cc7dafa80280ebd7f692f1fa8f27fd6288/tweepy-3.6.0-py2.py3-none-any.whl\n",
      "Requirement already satisfied: six>=1.10.0 in /Users/tnni/anaconda3/lib/python3.7/site-packages (from tweepy) (1.11.0)\n",
      "Requirement already satisfied: requests-oauthlib>=0.7.0 in /Users/tnni/anaconda3/lib/python3.7/site-packages (from tweepy) (1.0.0)\n",
      "Requirement already satisfied: PySocks>=1.5.7 in /Users/tnni/anaconda3/lib/python3.7/site-packages (from tweepy) (1.6.8)\n",
      "Requirement already satisfied: requests>=2.11.1 in /Users/tnni/anaconda3/lib/python3.7/site-packages (from tweepy) (2.19.1)\n",
      "Requirement already satisfied: oauthlib>=0.6.2 in /Users/tnni/anaconda3/lib/python3.7/site-packages (from requests-oauthlib>=0.7.0->tweepy) (2.1.0)\n",
      "Requirement already satisfied: chardet<3.1.0,>=3.0.2 in /Users/tnni/anaconda3/lib/python3.7/site-packages (from requests>=2.11.1->tweepy) (3.0.4)\n",
      "Requirement already satisfied: certifi>=2017.4.17 in /Users/tnni/anaconda3/lib/python3.7/site-packages (from requests>=2.11.1->tweepy) (2018.8.24)\n",
      "Requirement already satisfied: urllib3<1.24,>=1.21.1 in /Users/tnni/anaconda3/lib/python3.7/site-packages (from requests>=2.11.1->tweepy) (1.23)\n",
      "Requirement already satisfied: idna<2.8,>=2.5 in /Users/tnni/anaconda3/lib/python3.7/site-packages (from requests>=2.11.1->tweepy) (2.7)\n",
      "\u001b[31mtwisted 18.7.0 requires PyHamcrest>=1.9.0, which is not installed.\u001b[0m\n",
      "Installing collected packages: tweepy\n",
      "Successfully installed tweepy-3.6.0\n",
      "\u001b[33mYou are using pip version 10.0.1, however version 18.1 is available.\n",
      "You should consider upgrading via the 'pip install --upgrade pip' command.\u001b[0m\n"
     ]
    }
   ],
   "source": [
    "!pip install tweepy"
   ]
  },
  {
   "cell_type": "code",
   "execution_count": null,
   "metadata": {},
   "outputs": [],
   "source": []
  },
  {
   "cell_type": "code",
   "execution_count": null,
   "metadata": {},
   "outputs": [],
   "source": []
  },
  {
   "cell_type": "code",
   "execution_count": null,
   "metadata": {},
   "outputs": [],
   "source": []
  },
  {
   "cell_type": "code",
   "execution_count": null,
   "metadata": {},
   "outputs": [],
   "source": []
  },
  {
   "cell_type": "code",
   "execution_count": null,
   "metadata": {},
   "outputs": [],
   "source": []
  },
  {
   "cell_type": "code",
   "execution_count": 12,
   "metadata": {},
   "outputs": [
    {
     "ename": "SyntaxError",
     "evalue": "invalid syntax (streaming.py, line 358)",
     "output_type": "error",
     "traceback": [
      "Traceback \u001b[0;36m(most recent call last)\u001b[0m:\n",
      "  File \u001b[1;32m\"/Users/tnni/anaconda3/lib/python3.7/site-packages/IPython/core/interactiveshell.py\"\u001b[0m, line \u001b[1;32m2961\u001b[0m, in \u001b[1;35mrun_code\u001b[0m\n    exec(code_obj, self.user_global_ns, self.user_ns)\n",
      "  File \u001b[1;32m\"<ipython-input-12-b47d2dc2179e>\"\u001b[0m, line \u001b[1;32m1\u001b[0m, in \u001b[1;35m<module>\u001b[0m\n    import tweepy\n",
      "\u001b[0;36m  File \u001b[0;32m\"/Users/tnni/anaconda3/lib/python3.7/site-packages/tweepy/__init__.py\"\u001b[0;36m, line \u001b[0;32m17\u001b[0;36m, in \u001b[0;35m<module>\u001b[0;36m\u001b[0m\n\u001b[0;31m    from tweepy.streaming import Stream, StreamListener\u001b[0m\n",
      "\u001b[0;36m  File \u001b[0;32m\"/Users/tnni/anaconda3/lib/python3.7/site-packages/tweepy/streaming.py\"\u001b[0;36m, line \u001b[0;32m358\u001b[0m\n\u001b[0;31m    def _start(self, async):\u001b[0m\n\u001b[0m                         ^\u001b[0m\n\u001b[0;31mSyntaxError\u001b[0m\u001b[0;31m:\u001b[0m invalid syntax\n"
     ]
    }
   ],
   "source": [
    "import tweepy\n",
    "import csv\n",
    "import pandas as pd\n",
    "####input your credentials here\n",
    "consumer_key = 'BM9stMVWpf5K1DET1ej95yAze'\n",
    "consumer_secret = 'NRwpZSnKcbfwcsgutGAS04KXDoaFXkWW2HHjBwFtWbY1UKNqcH'\n",
    "access_token = '1055016384906887169-r8mTHO5aoAFlYb7cicqfEpqAhPrIfl'\n",
    "access_token_secret = 'z8hPh0RsecmugtfrvV5sVH7asctGB7GhlAOCylUaCnm6N'\n",
    "\n",
    "auth = tweepy.OAuthHandler(consumer_key, consumer_secret)\n",
    "auth.set_access_token(access_token, access_token_secret)\n",
    "api = tweepy.API(auth,wait_on_rate_limit=True)\n",
    "#####United Airlines\n",
    "# Open/Create a file to append data\n",
    "csvFile = open('ua.csv', 'a')\n",
    "#Use csv Writer\n",
    "csvWriter = csv.writer(csvFile)\n",
    "\n",
    "for tweet in tweepy.Cursor(api.search,q=\"#unitedAIRLINES\",count=100,\n",
    "                           lang=\"en\",\n",
    "                           since=\"2017-04-03\").items():\n",
    "    print (tweet.created_at, tweet.text)\n",
    "    csvWriter.writerow([tweet.created_at, tweet.text.encode('utf-8')])"
   ]
  },
  {
   "cell_type": "code",
   "execution_count": null,
   "metadata": {},
   "outputs": [],
   "source": []
  },
  {
   "cell_type": "code",
   "execution_count": null,
   "metadata": {},
   "outputs": [],
   "source": []
  },
  {
   "cell_type": "code",
   "execution_count": null,
   "metadata": {},
   "outputs": [],
   "source": []
  },
  {
   "cell_type": "code",
   "execution_count": null,
   "metadata": {},
   "outputs": [],
   "source": []
  },
  {
   "cell_type": "code",
   "execution_count": null,
   "metadata": {},
   "outputs": [],
   "source": []
  }
 ],
 "metadata": {
  "kernelspec": {
   "display_name": "Python 3",
   "language": "python",
   "name": "python3"
  },
  "language_info": {
   "codemirror_mode": {
    "name": "ipython",
    "version": 3
   },
   "file_extension": ".py",
   "mimetype": "text/x-python",
   "name": "python",
   "nbconvert_exporter": "python",
   "pygments_lexer": "ipython3",
   "version": "3.7.0"
  }
 },
 "nbformat": 4,
 "nbformat_minor": 2
}
