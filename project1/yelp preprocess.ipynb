{
 "cells": [
  {
   "cell_type": "code",
   "execution_count": 2,
   "metadata": {},
   "outputs": [],
   "source": [
    "import pandas as pd"
   ]
  },
  {
   "cell_type": "code",
   "execution_count": 5,
   "metadata": {},
   "outputs": [],
   "source": [
    "def cleanup(dirty_path, clean_path):\n",
    "    dirty_file = open(dirty_path, \"r\")\n",
    "    clean_file = open(clean_path, \"w\")\n",
    "    \n",
    "    content = ''\n",
    "    i = 0\n",
    "    for line in dirty_file:\n",
    "        if i == 1499249:\n",
    "            print('break')\n",
    "            break\n",
    "        s = line.replace('\\n', ',\\n')\n",
    "        content += s\n",
    "        i += 1\n",
    "\n",
    "    payload = '{\"data\" : \\n[%s]}' % (content[:-2] + '\\n')\n",
    "    clean_file.write(payload)"
   ]
  },
  {
   "cell_type": "code",
   "execution_count": 6,
   "metadata": {},
   "outputs": [],
   "source": [
    "dirty_path = 'yelp_dataset/yelp_academic_dataset_review.json'\n",
    "clean_path = \"cleaned/review.json\""
   ]
  },
  {
   "cell_type": "code",
   "execution_count": 7,
   "metadata": {},
   "outputs": [
    {
     "name": "stdout",
     "output_type": "stream",
     "text": [
      "break\n"
     ]
    }
   ],
   "source": [
    "cleanup(dirty_path, clean_path)"
   ]
  },
  {
   "cell_type": "code",
   "execution_count": 8,
   "metadata": {},
   "outputs": [],
   "source": [
    "# This is a hack\n",
    "json_data = list(pd.read_json(clean_path).data)\n",
    "df = pd.DataFrame(json_data)"
   ]
  },
  {
   "cell_type": "code",
   "execution_count": null,
   "metadata": {},
   "outputs": [],
   "source": []
  }
 ],
 "metadata": {
  "kernelspec": {
   "display_name": "Python 3",
   "language": "python",
   "name": "python3"
  },
  "language_info": {
   "codemirror_mode": {
    "name": "ipython",
    "version": 3
   },
   "file_extension": ".py",
   "mimetype": "text/x-python",
   "name": "python",
   "nbconvert_exporter": "python",
   "pygments_lexer": "ipython3",
   "version": "3.7.0"
  }
 },
 "nbformat": 4,
 "nbformat_minor": 2
}
