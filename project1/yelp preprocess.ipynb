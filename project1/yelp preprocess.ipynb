{
 "cells": [
  {
   "cell_type": "code",
   "execution_count": 1,
   "metadata": {},
   "outputs": [],
   "source": [
    "import pandas as pd"
   ]
  },
  {
   "cell_type": "code",
   "execution_count": 4,
   "metadata": {},
   "outputs": [],
   "source": [
    "def cleanup(maximum, k):\n",
    "    dirty_path = 'yelp_dataset/yelp_academic_dataset_review.json'\n",
    "    clean_path = \"cleaned/review%i.json\" % k\n",
    "    dirty_file = open(dirty_path, \"r\")\n",
    "    clean_file = open(clean_path, \"w\")\n",
    "    \n",
    "    content = ''\n",
    "    i = 0\n",
    "    for line in dirty_file:\n",
    "        if i == maximum:\n",
    "            print('break')\n",
    "            break\n",
    "        s = line.replace('\\n', ',\\n')\n",
    "        content += s\n",
    "        i += 1\n",
    "\n",
    "    payload = '{\"data\" : \\n[%s]}' % (content[:-2] + '\\n')\n",
    "    clean_file.write(payload)"
   ]
  },
  {
   "cell_type": "code",
   "execution_count": 8,
   "metadata": {},
   "outputs": [
    {
     "name": "stdout",
     "output_type": "stream",
     "text": [
      "break\n",
      "break\n",
      "break\n",
      "break\n",
      "break\n",
      "break\n"
     ]
    }
   ],
   "source": [
    "for k in range(6):\n",
    "    cleanup(1000000, k)"
   ]
  },
  {
   "cell_type": "code",
   "execution_count": 13,
   "metadata": {},
   "outputs": [],
   "source": [
    "df0 = pd.DataFrame(list(pd.read_json('cleaned/review0.json').data))\n",
    "df1 = pd.DataFrame(list(pd.read_json('cleaned/review1.json').data))\n",
    "df2 = pd.DataFrame(list(pd.read_json('cleaned/review2.json').data))\n",
    "df3 = pd.DataFrame(list(pd.read_json('cleaned/review3.json').data))\n",
    "df4 = pd.DataFrame(list(pd.read_json('cleaned/review4.json').data))\n",
    "df5 = pd.DataFrame(list(pd.read_json('cleaned/review5.json').data))"
   ]
  },
  {
   "cell_type": "code",
   "execution_count": 14,
   "metadata": {},
   "outputs": [],
   "source": [
    "DF = pd.concat([df0, df1, df2, df3, df4, df5])"
   ]
  },
  {
   "cell_type": "code",
   "execution_count": 15,
   "metadata": {},
   "outputs": [],
   "source": [
    "DF.to_csv('cleaned_csv/review_6m.csv')"
   ]
  },
  {
   "cell_type": "code",
   "execution_count": 7,
   "metadata": {},
   "outputs": [
    {
     "data": {
      "text/plain": [
       "1000000"
      ]
     },
     "execution_count": 7,
     "metadata": {},
     "output_type": "execute_result"
    }
   ],
   "source": [
    "len(df)"
   ]
  },
  {
   "cell_type": "code",
   "execution_count": 10,
   "metadata": {},
   "outputs": [],
   "source": [
    "rest = pd.read_csv('cleaned_csv/restaurants.csv')"
   ]
  },
  {
   "cell_type": "code",
   "execution_count": 12,
   "metadata": {},
   "outputs": [],
   "source": [
    "rest_id = set(rest.business_id)"
   ]
  },
  {
   "cell_type": "code",
   "execution_count": null,
   "metadata": {},
   "outputs": [],
   "source": []
  }
 ],
 "metadata": {
  "kernelspec": {
   "display_name": "Python 3",
   "language": "python",
   "name": "python3"
  },
  "language_info": {
   "codemirror_mode": {
    "name": "ipython",
    "version": 3
   },
   "file_extension": ".py",
   "mimetype": "text/x-python",
   "name": "python",
   "nbconvert_exporter": "python",
   "pygments_lexer": "ipython3",
   "version": "3.7.0"
  }
 },
 "nbformat": 4,
 "nbformat_minor": 2
}
