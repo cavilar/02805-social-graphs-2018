{
 "cells": [
  {
   "cell_type": "code",
   "execution_count": 2,
   "metadata": {},
   "outputs": [],
   "source": [
    "import re\n",
    "import networkx as nx\n",
    "import pandas as pd\n",
    "import io\n",
    "import numpy as np\n",
    "import matplotlib.pyplot as plt"
   ]
  },
  {
   "cell_type": "code",
   "execution_count": 23,
   "metadata": {},
   "outputs": [],
   "source": [
    "class Politician:\n",
    "    def __init__(self, row):\n",
    "        self.WikiPageName = str(row.WikiPageName).encode('UTF-8')\n",
    "        self.Party = str(row.Party).encode('UTF-8')\n",
    "        self.State = str(row.State).encode('UTF-8')\n",
    "    def __hash__(self):\n",
    "        return hash(self.WikiPageName)\n",
    "    def __eq__(self, other):\n",
    "        return (\n",
    "                self.__class__ == other.__class__ and \n",
    "                self.WikiPageName == other.WikiPageName\n",
    "               )"
   ]
  },
  {
   "cell_type": "code",
   "execution_count": 40,
   "metadata": {},
   "outputs": [],
   "source": [
    "class Politician:\n",
    "    def __init__(self, row):\n",
    "        self.WikiPageName = row.WikiPageName\n",
    "        self.Party = row.Party\n",
    "        self.State = row.State\n",
    "    def __hash__(self):\n",
    "        return hash(self.WikiPageName)\n",
    "    def __eq__(self, other):\n",
    "        return (\n",
    "                self.__class__ == other.__class__ and \n",
    "                self.WikiPageName == other.WikiPageName\n",
    "               )"
   ]
  },
  {
   "cell_type": "code",
   "execution_count": 24,
   "metadata": {},
   "outputs": [],
   "source": [
    "df = pd.read_csv('./dataset/H113.csv', encoding='UTF-8')\n",
    "wiki_page_names = list(df.WikiPageName)\n",
    "wiki_page_names = np.array([name.encode('UTF-8') for name in wiki_page_names])"
   ]
  },
  {
   "cell_type": "code",
   "execution_count": 36,
   "metadata": {},
   "outputs": [
    {
     "name": "stdout",
     "output_type": "stream",
     "text": [
      "{u'WikiPageName': 'John_Dingell', u'Party': u'Democratic', u'State': u'Michigan'}\n",
      "{u'WikiPageName': 'John_Conyers', u'Party': u'Democratic', u'State': u'Michigan'}\n",
      "{u'WikiPageName': 'Charles_Rangel', u'Party': u'Democratic', u'State': u'New York'}\n",
      "{u'WikiPageName': 'Bill_Young', u'Party': u'Republican', u'State': u'Florida'}\n",
      "{u'WikiPageName': 'Don_Young', u'Party': u'Republican', u'State': u'Alaska'}\n",
      "{u'WikiPageName': 'George_Miller_(California_politician)', u'Party': u'Democratic', u'State': u'California'}\n",
      "{u'WikiPageName': 'Henry_Waxman', u'Party': u'Democratic', u'State': u'California'}\n",
      "{u'WikiPageName': 'Ed_Markey', u'Party': u'Democratic', u'State': u'Massachusetts'}\n",
      "{u'WikiPageName': 'Nick_Rahall', u'Party': u'Democratic', u'State': u'West Virginia'}\n",
      "{u'WikiPageName': 'Jim_Sensenbrenner', u'Party': u'Republican', u'State': u'Wisconsin'}\n"
     ]
    }
   ],
   "source": [
    "for i in range(10):\n",
    "    print dict(df.iloc[i])\n",
    "    "
   ]
  },
  {
   "cell_type": "code",
   "execution_count": 39,
   "metadata": {},
   "outputs": [
    {
     "ename": "UnicodeDecodeError",
     "evalue": "'ascii' codec can't decode byte 0xc3 in position 3: ordinal not in range(128)",
     "output_type": "error",
     "traceback": [
      "\u001b[0;31m---------------------------------------------------------------------------\u001b[0m",
      "\u001b[0;31mUnicodeDecodeError\u001b[0m                        Traceback (most recent call last)",
      "\u001b[0;32m<ipython-input-39-68b72f140d42>\u001b[0m in \u001b[0;36m<module>\u001b[0;34m()\u001b[0m\n\u001b[0;32m----> 1\u001b[0;31m \u001b[0mconv\u001b[0m\u001b[0;34m(\u001b[0m\u001b[0mdf\u001b[0m\u001b[0;34m.\u001b[0m\u001b[0miloc\u001b[0m\u001b[0;34m[\u001b[0m\u001b[0;36m35\u001b[0m\u001b[0;34m]\u001b[0m\u001b[0;34m)\u001b[0m\u001b[0;34m\u001b[0m\u001b[0m\n\u001b[0m",
      "\u001b[0;32m<ipython-input-37-21b6cc47596d>\u001b[0m in \u001b[0;36mconv\u001b[0;34m(d)\u001b[0m\n\u001b[1;32m      1\u001b[0m \u001b[0;32mdef\u001b[0m \u001b[0mconv\u001b[0m\u001b[0;34m(\u001b[0m\u001b[0md\u001b[0m\u001b[0;34m)\u001b[0m\u001b[0;34m:\u001b[0m\u001b[0;34m\u001b[0m\u001b[0m\n\u001b[1;32m      2\u001b[0m     \u001b[0;32mfor\u001b[0m \u001b[0mkey\u001b[0m \u001b[0;32min\u001b[0m \u001b[0md\u001b[0m\u001b[0;34m.\u001b[0m\u001b[0mkeys\u001b[0m\u001b[0;34m(\u001b[0m\u001b[0;34m)\u001b[0m\u001b[0;34m:\u001b[0m\u001b[0;34m\u001b[0m\u001b[0m\n\u001b[0;32m----> 3\u001b[0;31m         \u001b[0md\u001b[0m\u001b[0;34m[\u001b[0m\u001b[0mkey\u001b[0m\u001b[0;34m]\u001b[0m \u001b[0;34m=\u001b[0m \u001b[0md\u001b[0m\u001b[0;34m[\u001b[0m\u001b[0mkey\u001b[0m\u001b[0;34m]\u001b[0m\u001b[0;34m.\u001b[0m\u001b[0mencode\u001b[0m\u001b[0;34m(\u001b[0m\u001b[0;34m'UTF-8'\u001b[0m\u001b[0;34m)\u001b[0m\u001b[0;34m\u001b[0m\u001b[0m\n\u001b[0m\u001b[1;32m      4\u001b[0m     \u001b[0;32mreturn\u001b[0m \u001b[0md\u001b[0m\u001b[0;34m\u001b[0m\u001b[0m\n",
      "\u001b[0;31mUnicodeDecodeError\u001b[0m: 'ascii' codec can't decode byte 0xc3 in position 3: ordinal not in range(128)"
     ]
    }
   ],
   "source": [
    "conv(df.iloc[35])"
   ]
  },
  {
   "cell_type": "code",
   "execution_count": 37,
   "metadata": {},
   "outputs": [],
   "source": [
    "def conv(d):\n",
    "    for key in d.keys():\n",
    "        d[key] = d[key].encode('UTF-8')\n",
    "    return d"
   ]
  },
  {
   "cell_type": "code",
   "execution_count": 27,
   "metadata": {},
   "outputs": [
    {
     "data": {
      "text/plain": [
       "0                               John_Dingell\n",
       "1                               John_Conyers\n",
       "2                             Charles_Rangel\n",
       "3                                 Bill_Young\n",
       "4                                  Don_Young\n",
       "5      George_Miller_(California_politician)\n",
       "6                               Henry_Waxman\n",
       "7                                  Ed_Markey\n",
       "8                                Nick_Rahall\n",
       "9                          Jim_Sensenbrenner\n",
       "10                                 Tom_Petri\n",
       "11                                Ralph_Hall\n",
       "12                                Hal_Rogers\n",
       "13       Chris_Smith_(New_Jersey_politician)\n",
       "14                   Frank_Wolf_(politician)\n",
       "15                               Steny_Hoyer\n",
       "16                              Marcy_Kaptur\n",
       "17                              Sander_Levin\n",
       "18                                Joe_Barton\n",
       "19                              Howard_Coble\n",
       "20                            Pete_Visclosky\n",
       "21                             Peter_DeFazio\n",
       "22          John_Lewis_(civil_rights_leader)\n",
       "23                          Louise_Slaughter\n",
       "24                               Lamar_Smith\n",
       "25                                Fred_Upton\n",
       "26                              Nancy_Pelosi\n",
       "27                             Frank_Pallone\n",
       "28                 Jimmy_Duncan_(politician)\n",
       "29                               Eliot_Engel\n",
       "                       ...                  \n",
       "414                               Trey_Radel\n",
       "415                                 Tom_Rice\n",
       "416                            Keith_Rothfus\n",
       "417                   Raul_Ruiz_(politician)\n",
       "418                           Brad_Schneider\n",
       "419                           Kyrsten_Sinema\n",
       "420               Chris_Stewart_(politician)\n",
       "421                            Eric_Swalwell\n",
       "422                              Mark_Takano\n",
       "423                            David_Valadao\n",
       "424                              Juan_Vargas\n",
       "425                              Marc_Veasey\n",
       "426                         Filemon_Vela_Jr.\n",
       "427                               Ann_Wagner\n",
       "428                          Jackie_Walorski\n",
       "429                              Randy_Weber\n",
       "430                            Brad_Wenstrup\n",
       "431     Roger_Williams_(American_politician)\n",
       "432                                 Ted_Yoho\n",
       "433                              Robin_Kelly\n",
       "434                             Mark_Sanford\n",
       "435                 Jason_Smith_(politician)\n",
       "436                         Vance_McAllister\n",
       "437                          Katherine_Clark\n",
       "438                            Bradley_Byrne\n",
       "439                              David_Jolly\n",
       "440                             Curt_Clawson\n",
       "441                               Alma_Adams\n",
       "442                                Dave_Brat\n",
       "443                          Donald_Norcross\n",
       "Name: WikiPageName, Length: 444, dtype: object"
      ]
     },
     "execution_count": 27,
     "metadata": {},
     "output_type": "execute_result"
    }
   ],
   "source": [
    "df.WikiPageName"
   ]
  },
  {
   "cell_type": "code",
   "execution_count": null,
   "metadata": {},
   "outputs": [],
   "source": []
  }
 ],
 "metadata": {
  "kernelspec": {
   "display_name": "Python 2",
   "language": "python",
   "name": "python2"
  },
  "language_info": {
   "codemirror_mode": {
    "name": "ipython",
    "version": 2
   },
   "file_extension": ".py",
   "mimetype": "text/x-python",
   "name": "python",
   "nbconvert_exporter": "python",
   "pygments_lexer": "ipython2",
   "version": "2.7.15"
  }
 },
 "nbformat": 4,
 "nbformat_minor": 2
}
