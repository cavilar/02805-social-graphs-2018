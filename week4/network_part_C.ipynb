{
 "cells": [
  {
   "cell_type": "code",
   "execution_count": 224,
   "metadata": {},
   "outputs": [],
   "source": [
    "import re\n",
    "import networkx as nx\n",
    "import pandas as pd\n",
    "import io\n",
    "import numpy as np"
   ]
  },
  {
   "cell_type": "markdown",
   "metadata": {},
   "source": [
    "Load dataframe"
   ]
  },
  {
   "cell_type": "code",
   "execution_count": 225,
   "metadata": {},
   "outputs": [],
   "source": [
    "df = pd.read_csv('./dataset/H113.csv', encoding='UTF-8')\n",
    "wiki_page_names = list(df.WikiPageName)\n",
    "wiki_page_names = np.array([name.encode('UTF8') for name in wiki_page_names])"
   ]
  },
  {
   "cell_type": "markdown",
   "metadata": {},
   "source": [
    "Makeshift solution because pandas is cancer sometimes"
   ]
  },
  {
   "cell_type": "code",
   "execution_count": 205,
   "metadata": {},
   "outputs": [],
   "source": [
    "class Politician:\n",
    "    def __init__(self, row):\n",
    "        self.WikiPageName = row.values[0][0]\n",
    "        self.Party = row.values[0][1]\n",
    "        self.State = row.values[0][2]"
   ]
  },
  {
   "cell_type": "markdown",
   "metadata": {},
   "source": [
    "Read data into an array"
   ]
  },
  {
   "cell_type": "code",
   "execution_count": 206,
   "metadata": {},
   "outputs": [],
   "source": [
    "def get_article_links(name, year):\n",
    "    articlePattern = r'\\[\\[([^\\]]*?)(?:\\|.*?)*\\]\\]'\n",
    "    path_folder = './congress2015/'\n",
    "    article = io.open(path_folder + name + year + '.txt', 'r', encoding='utf-8').read()\n",
    "    article_links = re.findall(article_pattern, article)\n",
    "    article_links = [a.encode('UTF8').replace(' ', '_') for a in article_links]\n",
    "    return article_links"
   ]
  },
  {
   "cell_type": "code",
   "execution_count": 226,
   "metadata": {},
   "outputs": [],
   "source": [
    "DG = nx.DiGraph()\n",
    "\n",
    "for i,name in enumerate(wiki_page_names):\n",
    "    article_links = get_article_links(name, '2015')\n",
    "    \n",
    "    p = Politician(df.iloc[i])\n",
    "    DG.add_node(p)\n",
    "    for link in article_links:\n",
    "        if link in wiki_page_names:\n",
    "            j = wiki_page_names == link\n",
    "            q = Politician(df.iloc[j])\n",
    "            DG.add_edge(p, q)"
   ]
  },
  {
   "cell_type": "markdown",
   "metadata": {},
   "source": [
    "What is the number of nodes in the network? And the number of links?"
   ]
  },
  {
   "cell_type": "code",
   "execution_count": 230,
   "metadata": {},
   "outputs": [
    {
     "name": "stdout",
     "output_type": "stream",
     "text": [
      "Nodes 4156\n",
      "Links 2078\n"
     ]
    }
   ],
   "source": [
    "print 'Nodes', len(DG.nodes())\n",
    "print 'Links', len(DG.edges())"
   ]
  },
  {
   "cell_type": "code",
   "execution_count": 228,
   "metadata": {},
   "outputs": [
    {
     "data": {
      "text/plain": [
       "2078"
      ]
     },
     "execution_count": 228,
     "metadata": {},
     "output_type": "execute_result"
    }
   ],
   "source": [
    "len(DG.edges(links))"
   ]
  },
  {
   "cell_type": "code",
   "execution_count": null,
   "metadata": {},
   "outputs": [],
   "source": []
  },
  {
   "cell_type": "code",
   "execution_count": null,
   "metadata": {},
   "outputs": [],
   "source": []
  },
  {
   "cell_type": "code",
   "execution_count": null,
   "metadata": {},
   "outputs": [],
   "source": []
  },
  {
   "cell_type": "code",
   "execution_count": null,
   "metadata": {},
   "outputs": [],
   "source": []
  },
  {
   "cell_type": "code",
   "execution_count": null,
   "metadata": {},
   "outputs": [],
   "source": []
  }
 ],
 "metadata": {
  "kernelspec": {
   "display_name": "Python 2",
   "language": "python",
   "name": "python2"
  },
  "language_info": {
   "codemirror_mode": {
    "name": "ipython",
    "version": 2
   },
   "file_extension": ".py",
   "mimetype": "text/x-python",
   "name": "python",
   "nbconvert_exporter": "python",
   "pygments_lexer": "ipython2",
   "version": "2.7.15"
  }
 },
 "nbformat": 4,
 "nbformat_minor": 2
}
