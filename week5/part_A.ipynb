{
 "cells": [
  {
   "cell_type": "code",
   "execution_count": 1,
   "metadata": {},
   "outputs": [],
   "source": [
    "import re\n",
    "import networkx as nx\n",
    "import pandas as pd\n",
    "import io\n",
    "import numpy as np\n",
    "import matplotlib.pyplot as plt"
   ]
  },
  {
   "cell_type": "code",
   "execution_count": 2,
   "metadata": {},
   "outputs": [],
   "source": [
    "df = pd.read_csv('../week4/dataset/H113.csv')\n",
    "wiki_page_names = list(df.WikiPageName)"
   ]
  },
  {
   "cell_type": "code",
   "execution_count": 3,
   "metadata": {},
   "outputs": [],
   "source": [
    "class Politician:\n",
    "    def __init__(self, dfRow):\n",
    "        self.WikiPageName = str(dfRow[0])\n",
    "        self.Party = str(dfRow[1])\n",
    "        self.State = str(dfRow[2])\n",
    "    def __hash__(self):\n",
    "        return hash(self.WikiPageName)\n",
    "    def __eq__(self, other):\n",
    "        return (\n",
    "                self.__class__ == other.__class__ and \n",
    "                self.WikiPageName == other.WikiPageName\n",
    "               )"
   ]
  },
  {
   "cell_type": "code",
   "execution_count": 4,
   "metadata": {},
   "outputs": [],
   "source": [
    "def get_article_links(name, year):\n",
    "    # The regex pattern for recognizing links on the form [x | y]\n",
    "    # and only capturing 'x'.\n",
    "    article_pattern = r'\\[\\[([^\\]]*?)(?:\\|.*?)*\\]\\]'\n",
    "    path_folder = '../week4/WikiPages%s/' % year\n",
    "    article = io.open(path_folder + name + year + \".txt\", 'r').read()\n",
    "    article_links = re.findall(article_pattern, article)\n",
    "    article_links = [a.replace(' ', '_') for a in article_links]\n",
    "    return article_links"
   ]
  },
  {
   "cell_type": "code",
   "execution_count": 6,
   "metadata": {},
   "outputs": [],
   "source": [
    "congressGraph = nx.DiGraph()\n",
    "\n",
    "for index, row in df.iterrows():\n",
    "    # Create politician node\n",
    "    p = Politician(row)\n",
    "    congressGraph.add_node(p)\n",
    "    \n",
    "    # Get links\n",
    "    wikiPageName = row[0]\n",
    "    articleLinks = get_article_links(wikiPageName, \"2015\")\n",
    "    for link in articleLinks:\n",
    "        if link in wiki_page_names:\n",
    "            linkIndex = wiki_page_names.index(link)\n",
    "            linkRow = df.iloc[linkIndex]\n",
    "            q = Politician(linkRow)\n",
    "            congressGraph.add_edge(p, q)"
   ]
  },
  {
   "cell_type": "code",
   "execution_count": 7,
   "metadata": {},
   "outputs": [],
   "source": [
    "def degree_array(G, direction=\"none\"):\n",
    "    if direction == \"in\":\n",
    "        return list(dict(G.in_degree()).values())\n",
    "    elif direction == \"out\":\n",
    "        return list(dict(G.out_degree()).values())\n",
    "    else:\n",
    "        return list(dict(G.degree()).values())"
   ]
  },
  {
   "cell_type": "code",
   "execution_count": 15,
   "metadata": {},
   "outputs": [
    {
     "data": {
      "image/png": "[encoded data removed]",
      "text/plain": [
       "<Figure size 720x360 with 1 Axes>"
      ]
     },
     "metadata": {},
     "output_type": "display_data"
    }
   ],
   "source": [
    "degrees = degree_array(congressGraph)\n",
    "v = np.arange(min(degrees), max(degrees)+1)\n",
    "plt.figure(figsize=(10,5))\n",
    "plt.hist(degrees, bins=v, edgecolor=\"black\")\n",
    "plt.show()"
   ]
  },
  {
   "cell_type": "code",
   "execution_count": null,
   "metadata": {},
   "outputs": [],
   "source": []
  }
 ],
 "metadata": {
  "kernelspec": {
   "display_name": "Python 3",
   "language": "python",
   "name": "python3"
  },
  "language_info": {
   "codemirror_mode": {
    "name": "ipython",
    "version": 3
   },
   "file_extension": ".py",
   "mimetype": "text/x-python",
   "name": "python",
   "nbconvert_exporter": "python",
   "pygments_lexer": "ipython3",
   "version": "3.6.1"
  }
 },
 "nbformat": 4,
 "nbformat_minor": 2
}
