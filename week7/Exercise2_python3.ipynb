{
 "cells": [
  {
   "cell_type": "code",
   "execution_count": 2,
   "metadata": {},
   "outputs": [],
   "source": [
    "import requests\n",
    "import nltk, re, pprint, io, json\n",
    "import matplotlib.pyplot as plt\n",
    "import pandas as pd"
   ]
  },
  {
   "cell_type": "code",
   "execution_count": 3,
   "metadata": {},
   "outputs": [],
   "source": [
    "def build_query_url(page):\n",
    "    # Build query\n",
    "    queryUrl = \"http://en.wikipedia.org/w/api.php/?action=query\"\n",
    "    title = \"titles=%s\" % page \n",
    "    content = \"prop=extracts&exlimit=max&explaintext\"\n",
    "    dataformat = \"format=json\"\n",
    "    query = \"%s&%s&%s&%s\" % (queryUrl, title, content, dataformat)\n",
    "    return query\n",
    "\n",
    "def get_content(url):\n",
    "    # Send request and parse response\n",
    "    json_response = requests.get(url).json()\n",
    "    pages = json_response['query']['pages']\n",
    "    key = next(iter(pages.keys()))\n",
    "    content = pages[key]['extract']\n",
    "    return content\n",
    "    \n",
    "def fetch_content(page):\n",
    "    url = build_query_url(page)\n",
    "    content = get_content(url)\n",
    "    return content\n",
    "\n",
    "def save_to_file(content, page_name):\n",
    "    filename = 'congress115/%s.txt' % page_name\n",
    "    f = open(filename, \"a\")\n",
    "    f.write(content)\n",
    "    f.close()  "
   ]
  },
  {
   "cell_type": "code",
   "execution_count": 4,
   "metadata": {},
   "outputs": [],
   "source": [
    "# Create a dataframe which contains page names for the 115th congress\n",
    "url_h115 = 'https://raw.githubusercontent.com/suneman/socialgraphs2018/master/files/data_US_congress/H115.csv'\n",
    "df = pd.read_csv(url_h115)\n",
    "page_names = df.WikiPageName"
   ]
  },
  {
   "cell_type": "code",
   "execution_count": 32,
   "metadata": {},
   "outputs": [
    {
     "name": "stdout",
     "output_type": "stream",
     "text": [
      "CPU times: user 15.9 s, sys: 1.46 s, total: 17.4 s\n",
      "Wall time: 3min 4s\n"
     ]
    }
   ],
   "source": [
    "%%time\n",
    "# Fetch each wikipage and save to a txt file\n",
    "for page_name in page_names:\n",
    "    content = fetch_content(page_name)\n",
    "    save_to_file(content, page_name)"
   ]
  },
  {
   "cell_type": "markdown",
   "metadata": {},
   "source": [
    "## Exercises\n",
    "### TF-IDF\n",
    "**Explain in your own words the point of TF-IDF.**\n",
    "* What does TF stand for?\n",
    "* What does IDF stand for?\n",
    "\n",
    "Answer:\n",
    "* TFIDF (term frequency–inverse document frequency), is a numerical statistic that is intended to reflect how important a word is to a document in a collection or corpus. It is often used as a weighting factor in searches of information retrieval, text mining, and user modeling. The tf–idf value increases proportionally to the number of times a word appears in the document and is offset by the number of documents in the corpus that contain the word, which helps to adjust for the fact that some words appear more frequently in general. Tf–idf is one of the most popular term-weighting schemes today.\n",
    "\n",
    "* Variations of the tf–idf weighting scheme are often used by search engines as a central tool in scoring and ranking a document's relevance given a user query. tf–idf can be successfully used for stop-words filtering in various subject fields, including text summarization and classification.\n",
    "\n",
    "### Tokenizing the Wikipedia Pages\n",
    "We want to find out which words are important for each party, so we're going to create two large documents, one for the Democratic and one for the Republican party. Tokenize the pages, and combine the tokens into one long list including all the pages of the members of the same party. Remember the bullets below for success.\n",
    "* Exclude the congress members names (since we're interested in the words, not the names).\n",
    "* Exclude punctuation.\n",
    "* Exclude stop words (if you don't know what stop words are, go back and read NLPP1e again).\n",
    "* Exclude numbers (since they're difficult to interpret in the word cloud).\n",
    "* Set everything to lower case.\n",
    "\n",
    "*Note that none of the above has to be perfect. It might not be easy to remove all representatives names. And there's some room for improvisation. You can try using stemming. In my own first run the results didn't look so nice, because some pages are very detailed and repeat certain words again and again and again, whereas other pages are very short. For that reason, I decided to use the unique set of words from each page rather than each word in proportion to how it's actually used on that page. Choices like that are up to you.\n",
    "Now, we're ready to calculate the TF for each word. Use the method of your choice to find the top 5 terms within each party.*"
   ]
  },
  {
   "cell_type": "code",
   "execution_count": 5,
   "metadata": {},
   "outputs": [],
   "source": [
    "from nltk.corpus import stopwords"
   ]
  },
  {
   "cell_type": "code",
   "execution_count": 6,
   "metadata": {},
   "outputs": [],
   "source": [
    "import string\n",
    "all_words = \" \".join(page_names)\n",
    "all_tokens = nltk.word_tokenize(all_words)\n",
    "\n",
    "# Only take words with a capital start letter\n",
    "# Replace underscores with whitespaces\n",
    "# Remove the word \"politician\" from the names\n",
    "names = [\n",
    "    name.replace(\"_\", \" \").replace(\"politician\", \"\") \n",
    "    for name in all_tokens \n",
    "    if name[0] in string.ascii_uppercase\n",
    "]"
   ]
  },
  {
   "cell_type": "code",
   "execution_count": 8,
   "metadata": {},
   "outputs": [],
   "source": [
    "out = \"\\n\".join(names)\n",
    "f = open(\"member_names_pretty.txt\", \"w\")\n",
    "f.write(out)\n",
    "f.close()"
   ]
  },
  {
   "cell_type": "code",
   "execution_count": null,
   "metadata": {},
   "outputs": [],
   "source": []
  },
  {
   "cell_type": "code",
   "execution_count": null,
   "metadata": {},
   "outputs": [],
   "source": []
  },
  {
   "cell_type": "code",
   "execution_count": null,
   "metadata": {},
   "outputs": [],
   "source": []
  },
  {
   "cell_type": "code",
   "execution_count": null,
   "metadata": {},
   "outputs": [],
   "source": []
  },
  {
   "cell_type": "code",
   "execution_count": 33,
   "metadata": {},
   "outputs": [],
   "source": [
    "def remove_names(doc, names):\n",
    "    for name in names:\n",
    "        doc = doc.replace(name, \"\")\n",
    "    return doc"
   ]
  },
  {
   "cell_type": "code",
   "execution_count": 38,
   "metadata": {},
   "outputs": [],
   "source": [
    "def filter_alphanumeric(document):\n",
    "    # Tokenize all words (no digits, no punctuation)\n",
    "    tokens = re.findall(r'[a-zA-Z]+', document)\n",
    "    return tokens"
   ]
  },
  {
   "cell_type": "code",
   "execution_count": 22,
   "metadata": {},
   "outputs": [],
   "source": [
    "def stem(tokens):\n",
    "    stemmer = nltk.LancasterStemmer()\n",
    "    # Stemming\n",
    "    stemmed_tokens = [stemmer.stem(t) for t in tokens]\n",
    "    return stemmed_tokens"
   ]
  },
  {
   "cell_type": "code",
   "execution_count": 24,
   "metadata": {},
   "outputs": [],
   "source": [
    "def filter_stopwords(tokens):\n",
    "    # Filter stop-words\n",
    "    non_stopwords = [\n",
    "        word for word in tokens \n",
    "        if word not in stopwords.words('english')\n",
    "    ]\n",
    "    return non_stopwords"
   ]
  },
  {
   "cell_type": "code",
   "execution_count": 26,
   "metadata": {},
   "outputs": [],
   "source": [
    "def build_document(page_names):\n",
    "    document = \"\"\n",
    "    for page_name in page_names:\n",
    "        path = 'congress115/%s.txt' % page_name\n",
    "        content = io.open(path, 'r', encoding=\"utf-8\").read()\n",
    "        document += \" %s\" % content\n",
    "    return document"
   ]
  },
  {
   "cell_type": "code",
   "execution_count": 16,
   "metadata": {},
   "outputs": [],
   "source": [
    "doc = build_document(page_names)"
   ]
  },
  {
   "cell_type": "code",
   "execution_count": 36,
   "metadata": {},
   "outputs": [
    {
     "ename": "NameError",
     "evalue": "name 'filter_alphanumeric' is not defined",
     "output_type": "error",
     "traceback": [
      "\u001b[0;31m---------------------------------------------------------------------------\u001b[0m",
      "\u001b[0;31mNameError\u001b[0m                                 Traceback (most recent call last)",
      "\u001b[0;32m<ipython-input-36-72a83d25150e>\u001b[0m in \u001b[0;36m<module>\u001b[0;34m()\u001b[0m\n\u001b[1;32m      1\u001b[0m \u001b[0mclean\u001b[0m \u001b[0;34m=\u001b[0m \u001b[0mremove_names\u001b[0m\u001b[0;34m(\u001b[0m\u001b[0mdoc\u001b[0m\u001b[0;34m,\u001b[0m \u001b[0mnames\u001b[0m\u001b[0;34m)\u001b[0m\u001b[0;34m\u001b[0m\u001b[0m\n\u001b[0;32m----> 2\u001b[0;31m \u001b[0malpha\u001b[0m \u001b[0;34m=\u001b[0m \u001b[0mfilter_alphanumeric\u001b[0m\u001b[0;34m(\u001b[0m\u001b[0mclean\u001b[0m\u001b[0;34m)\u001b[0m\u001b[0;34m\u001b[0m\u001b[0m\n\u001b[0m\u001b[1;32m      3\u001b[0m \u001b[0mstemmed\u001b[0m \u001b[0;34m=\u001b[0m \u001b[0mstem\u001b[0m\u001b[0;34m(\u001b[0m\u001b[0malpha\u001b[0m\u001b[0;34m)\u001b[0m\u001b[0;34m\u001b[0m\u001b[0m\n",
      "\u001b[0;31mNameError\u001b[0m: name 'filter_alphanumeric' is not defined"
     ]
    }
   ],
   "source": [
    "clean = remove_names(doc, names)"
   ]
  },
  {
   "cell_type": "code",
   "execution_count": 39,
   "metadata": {},
   "outputs": [],
   "source": [
    "alpha = filter_alphanumeric(clean)"
   ]
  },
  {
   "cell_type": "code",
   "execution_count": 40,
   "metadata": {},
   "outputs": [],
   "source": [
    "stemmed = stem(alpha)"
   ]
  },
  {
   "cell_type": "code",
   "execution_count": 41,
   "metadata": {},
   "outputs": [],
   "source": [
    "no_stop_words = filter_stopwords(stemmed)"
   ]
  },
  {
   "cell_type": "code",
   "execution_count": 43,
   "metadata": {},
   "outputs": [
    {
     "data": {
      "text/plain": [
       "483612"
      ]
     },
     "execution_count": 43,
     "metadata": {},
     "output_type": "execute_result"
    }
   ],
   "source": [
    "len(no_stop_words)"
   ]
  },
  {
   "cell_type": "code",
   "execution_count": null,
   "metadata": {},
   "outputs": [],
   "source": []
  }
 ],
 "metadata": {
  "kernelspec": {
   "display_name": "Python 3",
   "language": "python",
   "name": "python3"
  },
  "language_info": {
   "codemirror_mode": {
    "name": "ipython",
    "version": 3
   },
   "file_extension": ".py",
   "mimetype": "text/x-python",
   "name": "python",
   "nbconvert_exporter": "python",
   "pygments_lexer": "ipython3",
   "version": "3.6.6"
  }
 },
 "nbformat": 4,
 "nbformat_minor": 2
}
