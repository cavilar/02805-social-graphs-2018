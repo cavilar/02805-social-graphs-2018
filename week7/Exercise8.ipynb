{
 "cells": [
  {
   "cell_type": "markdown",
   "metadata": {},
   "source": [
    "## Modularity\n",
    "### H3: Random Hypothesis\n",
    "* Randomly wired networks lack an inherent community structure.\n",
    "* By comparing the link density of a community with the link density obtained for the same group of nodes for a randomly rewired network, we could decide if the original community corresponds to a dense subgraph, or its connectivity pattern emerged by chance.\n",
    "\n",
    "\n",
    "### Modularity\n",
    "*The \"quality\" of systematic deviations from a random configuration of a graph.*\n",
    "* Allows us to rate communities and compare them\n",
    "\n",
    "Consider a graph, G:\n",
    "* $N$ nodes, $L$ links\n",
    "* $n_c$ communities, each having $N_c$ nodes and $L_c$ links ($c = 1..n_c$)\n",
    "* If $L_c > L_{expect}(C_c)$ then C_c is likely a community\n",
    "* Measure difference between actual wiring diagram ($A_{ij}$) and the expected number of links between $i$ and $j$ in a random graph with wiring probability $p_{ij}$.\n",
    "\n",
    "$M_c = \\frac{1}{2L} \\sum_{i,j \\in C_c}{(A_{ij} - p_{ij})} = \n",
    "\\frac{L_C}{L} - \\left(\\frac{k_c}{2L}\\right)^2 $, \n",
    "where $p_{ij} = \\frac{k_i k_j}{2L}$\n",
    "\n",
    "* If $M_c > 0$ then the subgraph $C_c$ has more links than expected and represents a potential community.\n",
    "* If $M_c = 0$ then the connectivity is what can be expected from a random graph, and nothing final can be concluded.\n",
    "* If $M_c = 0$ then $C_c$ is not a community.\n",
    "\n",
    "Modularity of a partition which breaks a graph into $n_c$ communities:\n",
    "$M = \\sum_{c=1}^{c_n}M_c$\n",
    "\n",
    "\n",
    "\n"
   ]
  },
  {
   "cell_type": "markdown",
   "metadata": {},
   "source": [
    "* Explain the concept of modularity in your own words.\n",
    "    * A measure that allows us to compare the quality of communities in a quantitative manner."
   ]
  },
  {
   "cell_type": "markdown",
   "metadata": {},
   "source": [
    "Consider the undirected version of the graph for the 115th house of representatives.\n",
    "* Compute the modularity when you partition nodes based on their party. Modularity is described in the Network Science book, section 9.4). * * Use equation 9.12 in the book to calculate the modularity M of the parties-partitioning. Are the parties good community?\n"
   ]
  },
  {
   "cell_type": "code",
   "execution_count": 4,
   "metadata": {},
   "outputs": [],
   "source": [
    "# Load politician class and aux functions\n",
    "%run ../week5/aux.py"
   ]
  },
  {
   "cell_type": "code",
   "execution_count": 5,
   "metadata": {},
   "outputs": [],
   "source": [
    "url_h115 = 'https://raw.githubusercontent.com/suneman/socialgraphs2018/master/files/data_US_congress/H115.csv'\n",
    "df = pd.read_csv(url_h115)\n",
    "page_names = df.WikiPageName"
   ]
  },
  {
   "cell_type": "code",
   "execution_count": 7,
   "metadata": {},
   "outputs": [
    {
     "ename": "FileNotFoundError",
     "evalue": "[Errno 2] No such file or directory: '/congress115/John_Conyers.txt'",
     "output_type": "error",
     "traceback": [
      "\u001b[0;31m---------------------------------------------------------------------------\u001b[0m",
      "\u001b[0;31mFileNotFoundError\u001b[0m                         Traceback (most recent call last)",
      "\u001b[0;32m<ipython-input-7-f529fdd601b4>\u001b[0m in \u001b[0;36m<module>\u001b[0;34m()\u001b[0m\n\u001b[1;32m      8\u001b[0m     \u001b[0;31m# Get links\u001b[0m\u001b[0;34m\u001b[0m\u001b[0;34m\u001b[0m\u001b[0m\n\u001b[1;32m      9\u001b[0m     \u001b[0mwikiPageName\u001b[0m \u001b[0;34m=\u001b[0m \u001b[0mrow\u001b[0m\u001b[0;34m[\u001b[0m\u001b[0;36m0\u001b[0m\u001b[0;34m]\u001b[0m\u001b[0;34m\u001b[0m\u001b[0m\n\u001b[0;32m---> 10\u001b[0;31m     \u001b[0marticleLinks\u001b[0m \u001b[0;34m=\u001b[0m \u001b[0mget_article_links\u001b[0m\u001b[0;34m(\u001b[0m\u001b[0mwikiPageName\u001b[0m\u001b[0;34m,\u001b[0m \u001b[0;34m\"\"\u001b[0m\u001b[0;34m,\u001b[0m \u001b[0;34m\"/congress115/\"\u001b[0m\u001b[0;34m)\u001b[0m\u001b[0;34m\u001b[0m\u001b[0m\n\u001b[0m\u001b[1;32m     11\u001b[0m     \u001b[0;32mfor\u001b[0m \u001b[0mlink\u001b[0m \u001b[0;32min\u001b[0m \u001b[0marticleLinks\u001b[0m\u001b[0;34m:\u001b[0m\u001b[0;34m\u001b[0m\u001b[0m\n\u001b[1;32m     12\u001b[0m         \u001b[0;32mif\u001b[0m \u001b[0mlink\u001b[0m \u001b[0;32min\u001b[0m \u001b[0mwiki_page_names\u001b[0m\u001b[0;34m:\u001b[0m\u001b[0;34m\u001b[0m\u001b[0m\n",
      "\u001b[0;32m~/GitHub/02805-social-graphs-2018/week5/aux.py\u001b[0m in \u001b[0;36mget_article_links\u001b[0;34m(name, year, path_folder)\u001b[0m\n\u001b[1;32m     59\u001b[0m     \u001b[0;31m# and only capturing 'x'.\u001b[0m\u001b[0;34m\u001b[0m\u001b[0;34m\u001b[0m\u001b[0m\n\u001b[1;32m     60\u001b[0m     \u001b[0marticle_pattern\u001b[0m \u001b[0;34m=\u001b[0m \u001b[0;34mr'\\[\\[([^\\]]*?)(?:\\|.*?)*\\]\\]'\u001b[0m\u001b[0;34m\u001b[0m\u001b[0m\n\u001b[0;32m---> 61\u001b[0;31m     \u001b[0marticle\u001b[0m \u001b[0;34m=\u001b[0m \u001b[0mio\u001b[0m\u001b[0;34m.\u001b[0m\u001b[0mopen\u001b[0m\u001b[0;34m(\u001b[0m\u001b[0mpath_folder\u001b[0m \u001b[0;34m+\u001b[0m \u001b[0mname\u001b[0m \u001b[0;34m+\u001b[0m \u001b[0myear\u001b[0m \u001b[0;34m+\u001b[0m \u001b[0;34m\".txt\"\u001b[0m\u001b[0;34m,\u001b[0m \u001b[0;34m'r'\u001b[0m\u001b[0;34m,\u001b[0m \u001b[0mencoding\u001b[0m\u001b[0;34m=\u001b[0m\u001b[0;34m'utf-8'\u001b[0m\u001b[0;34m)\u001b[0m\u001b[0;34m.\u001b[0m\u001b[0mread\u001b[0m\u001b[0;34m(\u001b[0m\u001b[0;34m)\u001b[0m\u001b[0;34m\u001b[0m\u001b[0m\n\u001b[0m\u001b[1;32m     62\u001b[0m     \u001b[0marticle_links\u001b[0m \u001b[0;34m=\u001b[0m \u001b[0mre\u001b[0m\u001b[0;34m.\u001b[0m\u001b[0mfindall\u001b[0m\u001b[0;34m(\u001b[0m\u001b[0marticle_pattern\u001b[0m\u001b[0;34m,\u001b[0m \u001b[0marticle\u001b[0m\u001b[0;34m)\u001b[0m\u001b[0;34m\u001b[0m\u001b[0m\n\u001b[1;32m     63\u001b[0m     \u001b[0marticle_links\u001b[0m \u001b[0;34m=\u001b[0m \u001b[0;34m[\u001b[0m\u001b[0ma\u001b[0m\u001b[0;34m.\u001b[0m\u001b[0mreplace\u001b[0m\u001b[0;34m(\u001b[0m\u001b[0;34m' '\u001b[0m\u001b[0;34m,\u001b[0m \u001b[0;34m'_'\u001b[0m\u001b[0;34m)\u001b[0m \u001b[0;32mfor\u001b[0m \u001b[0ma\u001b[0m \u001b[0;32min\u001b[0m \u001b[0marticle_links\u001b[0m\u001b[0;34m]\u001b[0m\u001b[0;34m\u001b[0m\u001b[0m\n",
      "\u001b[0;31mFileNotFoundError\u001b[0m: [Errno 2] No such file or directory: '/congress115/John_Conyers.txt'"
     ]
    }
   ],
   "source": [
    "congress_graph = nx.Graph()\n",
    "\n",
    "for index, row in df.iterrows():\n",
    "    # Create politician node\n",
    "    p = Politician(row)\n",
    "    congress_graph.add_node(p)\n",
    "    \n",
    "    # Get links\n",
    "    wikiPageName = row[0]\n",
    "    articleLinks = get_article_links(wikiPageName, \"\", \"/congress115/\")\n",
    "    for link in articleLinks:\n",
    "        if link in wiki_page_names:\n",
    "            linkIndex = wiki_page_names.index(link)\n",
    "            linkRow = df.iloc[linkIndex]\n",
    "            q = Politician(linkRow)\n",
    "            congress_graph.add_edge(p, q)"
   ]
  },
  {
   "cell_type": "markdown",
   "metadata": {},
   "source": [
    "* Repeat the exercise above by considering states instead of parties. Are the states good communities?\n"
   ]
  },
  {
   "cell_type": "markdown",
   "metadata": {},
   "source": [
    "* Would you expect these results in light of what we have found in the previous exercises?"
   ]
  }
 ],
 "metadata": {
  "kernelspec": {
   "display_name": "Python 3",
   "language": "python",
   "name": "python3"
  },
  "language_info": {
   "codemirror_mode": {
    "name": "ipython",
    "version": 3
   },
   "file_extension": ".py",
   "mimetype": "text/x-python",
   "name": "python",
   "nbconvert_exporter": "python",
   "pygments_lexer": "ipython3",
   "version": "3.6.6"
  }
 },
 "nbformat": 4,
 "nbformat_minor": 2
}
